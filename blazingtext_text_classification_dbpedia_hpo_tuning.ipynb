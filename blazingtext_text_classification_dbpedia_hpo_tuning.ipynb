{
 "cells": [
  {
   "cell_type": "markdown",
   "metadata": {},
   "source": [
    "## Introduction\n",
    "\n",
    "Text Classification can be used to solve various use-cases like sentiment analysis, spam detection, hashtag prediction etc. This notebook demonstrates the use of SageMaker BlazingText to perform supervised binary/multi class with single or multi label text classification. BlazingText can train the model on more than a billion words in a couple of minutes using a multi-core CPU or a GPU, while achieving performance on par with the state-of-the-art deep learning text classification algorithms. BlazingText extends the fastText text classifier to leverage GPU acceleration using custom CUDA kernels."
   ]
  },
  {
   "cell_type": "markdown",
   "metadata": {},
   "source": [
    "## Setup\n",
    "\n",
    "Let's start by specifying:\n",
    "\n",
    "- The S3 bucket and prefix that you want to use for training and model data. This should be within the same region as the Notebook Instance, training, and hosting. If you don't specify a bucket, SageMaker SDK will create a default bucket following a pre-defined naming convention in the same region. \n",
    "- The IAM role ARN used to give SageMaker access to your data. It can be fetched using the **get_execution_role** method from sagemaker python SDK."
   ]
  },
  {
   "cell_type": "code",
   "execution_count": 1,
   "metadata": {
    "isConfigCell": true
   },
   "outputs": [
    {
     "name": "stdout",
     "output_type": "stream",
     "text": [
      "arn:aws:iam::820570838999:role/service-role/AmazonSageMaker-ExecutionRole-20180402T120223\n",
      "sagemaker-us-east-1-820570838999\n"
     ]
    }
   ],
   "source": [
    "import sagemaker\n",
    "from sagemaker import get_execution_role\n",
    "import json\n",
    "import boto3\n",
    "\n",
    "sess = sagemaker.Session()\n",
    "\n",
    "role = get_execution_role()\n",
    "print(role) # This is the role that SageMaker would use to leverage AWS resources (S3, CloudWatch) on your behalf\n",
    "\n",
    "bucket = sess.default_bucket() # Replace with your own bucket name if needed\n",
    "print(bucket)\n",
    "prefix = 'blazingtext/supervised' #Replace with the prefix under which you want to store the data if needed"
   ]
  },
  {
   "cell_type": "markdown",
   "metadata": {},
   "source": [
    "### Data Preparation\n",
    "\n",
    "Now we'll download a dataset from the web on which we want to train the text classification model. BlazingText expects a single preprocessed text file with space separated tokens and each line of the file should contain a single sentence and the corresponding label(s) prefixed by \"\\__label\\__\".\n",
    "\n",
    "In this example, let us train the text classification model on the [DBPedia Ontology Dataset](https://wiki.dbpedia.org/services-resources/dbpedia-data-set-2014#2) as done by [Zhang et al](https://arxiv.org/pdf/1509.01626.pdf). The DBpedia ontology dataset is constructed by picking 14 nonoverlapping classes from DBpedia 2014. It has 560,000 training samples and 70,000 testing samples. The fields we used for this dataset contain title and abstract of each Wikipedia article. "
   ]
  },
  {
   "cell_type": "code",
   "execution_count": 2,
   "metadata": {},
   "outputs": [
    {
     "name": "stdout",
     "output_type": "stream",
     "text": [
      "--2019-07-17 14:39:00--  https://github.com/saurabh3949/Text-Classification-Datasets/raw/master/dbpedia_csv.tar.gz\n",
      "Resolving github.com (github.com)... 140.82.113.4\n",
      "Connecting to github.com (github.com)|140.82.113.4|:443... connected.\n",
      "HTTP request sent, awaiting response... 302 Found\n",
      "Location: https://raw.githubusercontent.com/saurabh3949/Text-Classification-Datasets/master/dbpedia_csv.tar.gz [following]\n",
      "--2019-07-17 14:39:01--  https://raw.githubusercontent.com/saurabh3949/Text-Classification-Datasets/master/dbpedia_csv.tar.gz\n",
      "Resolving raw.githubusercontent.com (raw.githubusercontent.com)... 151.101.248.133\n",
      "Connecting to raw.githubusercontent.com (raw.githubusercontent.com)|151.101.248.133|:443... connected.\n",
      "HTTP request sent, awaiting response... 200 OK\n",
      "Length: 68431223 (65M) [application/octet-stream]\n",
      "Saving to: ‘dbpedia_csv.tar.gz.1’\n",
      "\n",
      "dbpedia_csv.tar.gz. 100%[===================>]  65.26M   105MB/s    in 0.6s    \n",
      "\n",
      "2019-07-17 14:39:02 (105 MB/s) - ‘dbpedia_csv.tar.gz.1’ saved [68431223/68431223]\n",
      "\n"
     ]
    }
   ],
   "source": [
    "!wget https://github.com/saurabh3949/Text-Classification-Datasets/raw/master/dbpedia_csv.tar.gz"
   ]
  },
  {
   "cell_type": "code",
   "execution_count": 3,
   "metadata": {},
   "outputs": [
    {
     "name": "stdout",
     "output_type": "stream",
     "text": [
      "dbpedia_csv/\n",
      "dbpedia_csv/test.csv\n",
      "dbpedia_csv/classes.txt\n",
      "dbpedia_csv/train.csv\n",
      "dbpedia_csv/readme.txt\n"
     ]
    }
   ],
   "source": [
    "!tar -xzvf dbpedia_csv.tar.gz"
   ]
  },
  {
   "cell_type": "markdown",
   "metadata": {},
   "source": [
    "Let us inspect the dataset and the classes to get some understanding about how the data and the label is provided in the dataset. "
   ]
  },
  {
   "cell_type": "code",
   "execution_count": 4,
   "metadata": {},
   "outputs": [
    {
     "name": "stdout",
     "output_type": "stream",
     "text": [
      "1,\"E. D. Abbott Ltd\",\" Abbott of Farnham E D Abbott Limited was a British coachbuilding business based in Farnham Surrey trading under that name from 1929. A major part of their output was under sub-contract to motor vehicle manufacturers. Their business closed in 1972.\"\r\n",
      "1,\"Schwan-Stabilo\",\" Schwan-STABILO is a German maker of pens for writing colouring and cosmetics as well as markers and highlighters for office use. It is the world's largest manufacturer of highlighter pens Stabilo Boss.\"\r\n",
      "1,\"Q-workshop\",\" Q-workshop is a Polish company located in Poznań that specializes in designand production of polyhedral dice and dice accessories for use in various games (role-playing gamesboard games and tabletop wargames). They also run an online retail store and maintainan active forum community.Q-workshop was established in 2001 by Patryk Strzelewicz – a student from Poznań. Initiallythe company sold its products via online auction services but in 2005 a website and online store wereestablished.\"\r\n"
     ]
    }
   ],
   "source": [
    "!head dbpedia_csv/train.csv -n 3"
   ]
  },
  {
   "cell_type": "markdown",
   "metadata": {},
   "source": [
    "As can be seen from the above output, the CSV has 3 fields - Label index, title and abstract. Let us first create a label index to label name mapping and then proceed to preprocess the dataset for ingestion by BlazingText."
   ]
  },
  {
   "cell_type": "markdown",
   "metadata": {},
   "source": [
    "Next we will print the labels file (`classes.txt`) to see all possible labels followed by creating an index to label mapping."
   ]
  },
  {
   "cell_type": "code",
   "execution_count": 5,
   "metadata": {},
   "outputs": [
    {
     "name": "stdout",
     "output_type": "stream",
     "text": [
      "Company\r\n",
      "EducationalInstitution\r\n",
      "Artist\r\n",
      "Athlete\r\n",
      "OfficeHolder\r\n",
      "MeanOfTransportation\r\n",
      "Building\r\n",
      "NaturalPlace\r\n",
      "Village\r\n",
      "Animal\r\n",
      "Plant\r\n",
      "Album\r\n",
      "Film\r\n",
      "WrittenWork\r\n"
     ]
    }
   ],
   "source": [
    "!cat dbpedia_csv/classes.txt"
   ]
  },
  {
   "cell_type": "markdown",
   "metadata": {},
   "source": [
    "The following code creates the mapping from integer indices to class label which will later be used to retrieve the actual class name during inference. "
   ]
  },
  {
   "cell_type": "code",
   "execution_count": 6,
   "metadata": {},
   "outputs": [
    {
     "name": "stdout",
     "output_type": "stream",
     "text": [
      "{'1': 'Company', '2': 'EducationalInstitution', '3': 'Artist', '4': 'Athlete', '5': 'OfficeHolder', '6': 'MeanOfTransportation', '7': 'Building', '8': 'NaturalPlace', '9': 'Village', '10': 'Animal', '11': 'Plant', '12': 'Album', '13': 'Film', '14': 'WrittenWork'}\n"
     ]
    }
   ],
   "source": [
    "index_to_label = {} \n",
    "with open(\"dbpedia_csv/classes.txt\") as f:\n",
    "    for i,label in enumerate(f.readlines()):\n",
    "        index_to_label[str(i+1)] = label.strip()\n",
    "print(index_to_label)"
   ]
  },
  {
   "cell_type": "markdown",
   "metadata": {},
   "source": [
    "## Data Preprocessing\n",
    "We need to preprocess the training data into **space separated tokenized text** format which can be consumed by `BlazingText` algorithm. Also, as mentioned previously, the class label(s) should be prefixed with `__label__` and it should be present in the same line along with the original sentence. We'll use `nltk` library to tokenize the input sentences from DBPedia dataset. "
   ]
  },
  {
   "cell_type": "markdown",
   "metadata": {},
   "source": [
    "Download the nltk tokenizer and other libraries"
   ]
  },
  {
   "cell_type": "code",
   "execution_count": 7,
   "metadata": {},
   "outputs": [
    {
     "name": "stdout",
     "output_type": "stream",
     "text": [
      "[nltk_data] Downloading package punkt to /home/ec2-user/nltk_data...\n",
      "[nltk_data]   Package punkt is already up-to-date!\n"
     ]
    },
    {
     "data": {
      "text/plain": [
       "True"
      ]
     },
     "execution_count": 7,
     "metadata": {},
     "output_type": "execute_result"
    }
   ],
   "source": [
    "from random import shuffle\n",
    "import multiprocessing\n",
    "from multiprocessing import Pool\n",
    "import csv\n",
    "import nltk\n",
    "nltk.download('punkt')"
   ]
  },
  {
   "cell_type": "code",
   "execution_count": 8,
   "metadata": {},
   "outputs": [],
   "source": [
    "def transform_instance(row):\n",
    "    cur_row = []\n",
    "    label = \"__label__\" + index_to_label[row[0]]  #Prefix the index-ed label with __label__\n",
    "    cur_row.append(label)\n",
    "    cur_row.extend(nltk.word_tokenize(row[1].lower()))\n",
    "    cur_row.extend(nltk.word_tokenize(row[2].lower()))\n",
    "    return cur_row"
   ]
  },
  {
   "cell_type": "markdown",
   "metadata": {},
   "source": [
    "The `transform_instance` will be applied to each data instance in parallel using python's multiprocessing module"
   ]
  },
  {
   "cell_type": "code",
   "execution_count": 9,
   "metadata": {},
   "outputs": [],
   "source": [
    "def preprocess(input_file, output_file, keep=1):\n",
    "    all_rows = []\n",
    "    with open(input_file, 'r') as csvinfile:\n",
    "        csv_reader = csv.reader(csvinfile, delimiter=',')\n",
    "        for row in csv_reader:\n",
    "            all_rows.append(row)\n",
    "    shuffle(all_rows)\n",
    "    all_rows = all_rows[:int(keep*len(all_rows))]\n",
    "    pool = Pool(processes=multiprocessing.cpu_count())\n",
    "    transformed_rows = pool.map(transform_instance, all_rows)\n",
    "    pool.close() \n",
    "    pool.join()\n",
    "    \n",
    "    with open(output_file, 'w') as csvoutfile:\n",
    "        csv_writer = csv.writer(csvoutfile, delimiter=' ', lineterminator='\\n')\n",
    "        csv_writer.writerows(transformed_rows)"
   ]
  },
  {
   "cell_type": "code",
   "execution_count": 10,
   "metadata": {},
   "outputs": [
    {
     "name": "stdout",
     "output_type": "stream",
     "text": [
      "CPU times: user 8.57 s, sys: 1.18 s, total: 9.74 s\n",
      "Wall time: 52.6 s\n"
     ]
    }
   ],
   "source": [
    "%%time\n",
    "\n",
    "# Preparing the training dataset\n",
    "\n",
    "# Since preprocessing the whole dataset might take a couple of mintutes,\n",
    "# we keep 20% of the training dataset for this demo.\n",
    "# Set keep to 1 if you want to use the complete dataset\n",
    "preprocess('dbpedia_csv/train.csv', 'dbpedia.train', keep=.2)\n",
    "        \n",
    "# Preparing the validation dataset        \n",
    "preprocess('dbpedia_csv/test.csv', 'dbpedia.validation')"
   ]
  },
  {
   "cell_type": "markdown",
   "metadata": {},
   "source": [
    "The data preprocessing cell might take a minute to run. After the data preprocessing is complete, we need to upload it to S3 so that it can be consumed by SageMaker to execute training jobs. We'll use Python SDK to upload these two files to the bucket and prefix location that we have set above.   "
   ]
  },
  {
   "cell_type": "code",
   "execution_count": 50,
   "metadata": {},
   "outputs": [
    {
     "name": "stdout",
     "output_type": "stream",
     "text": [
      "CPU times: user 584 ms, sys: 109 ms, total: 693 ms\n",
      "Wall time: 1.22 s\n"
     ]
    }
   ],
   "source": [
    "%%time\n",
    "\n",
    "train_channel = prefix + '/train'\n",
    "validation_channel = prefix + '/validation'\n",
    "\n",
    "sess.upload_data(path='dbpedia.train', bucket=bucket, key_prefix=train_channel)\n",
    "sess.upload_data(path='dbpedia.validation', bucket=bucket, key_prefix=validation_channel)\n",
    "\n",
    "s3_train_data = 's3://{}/{}'.format(bucket, train_channel)\n",
    "s3_validation_data = 's3://{}/{}'.format(bucket, validation_channel)"
   ]
  },
  {
   "cell_type": "markdown",
   "metadata": {},
   "source": [
    "Next we need to setup an output location at S3, where the model artifact will be dumped. These artifacts are also the output of the algorithm's traning job."
   ]
  },
  {
   "cell_type": "code",
   "execution_count": 51,
   "metadata": {},
   "outputs": [],
   "source": [
    "s3_output_location = 's3://{}/{}/output'.format(bucket, prefix)"
   ]
  },
  {
   "cell_type": "markdown",
   "metadata": {},
   "source": [
    "## Training\n",
    "Now that we are done with all the setup that is needed, we are ready to train our object detector. To begin, let us create a ``sageMaker.estimator.Estimator`` object. This estimator will launch the training job."
   ]
  },
  {
   "cell_type": "code",
   "execution_count": 52,
   "metadata": {},
   "outputs": [],
   "source": [
    "region_name = boto3.Session().region_name"
   ]
  },
  {
   "cell_type": "code",
   "execution_count": 53,
   "metadata": {},
   "outputs": [
    {
     "name": "stdout",
     "output_type": "stream",
     "text": [
      "Using SageMaker BlazingText container: 811284229777.dkr.ecr.us-east-1.amazonaws.com/blazingtext:latest (us-east-1)\n"
     ]
    }
   ],
   "source": [
    "container = sagemaker.amazon.amazon_estimator.get_image_uri(region_name, \"blazingtext\", \"latest\")\n",
    "print('Using SageMaker BlazingText container: {} ({})'.format(container, region_name))"
   ]
  },
  {
   "cell_type": "markdown",
   "metadata": {},
   "source": [
    "## Training the BlazingText model for supervised text classification"
   ]
  },
  {
   "cell_type": "markdown",
   "metadata": {},
   "source": [
    "Similar to the original implementation of [Word2Vec](https://arxiv.org/pdf/1301.3781.pdf), SageMaker BlazingText provides an efficient implementation of the continuous bag-of-words (CBOW) and skip-gram architectures using Negative Sampling, on CPUs and additionally on GPU[s]. The GPU implementation uses highly optimized CUDA kernels. To learn more, please refer to [*BlazingText: Scaling and Accelerating Word2Vec using Multiple GPUs*](https://dl.acm.org/citation.cfm?doid=3146347.3146354).\n",
    "\n",
    "\n"
   ]
  },
  {
   "cell_type": "markdown",
   "metadata": {},
   "source": [
    "Besides skip-gram and CBOW, SageMaker BlazingText also supports the \"Batch Skipgram\" mode, which uses efficient mini-batching and matrix-matrix operations ([BLAS Level 3 routines](https://software.intel.com/en-us/mkl-developer-reference-fortran-blas-level-3-routines)). This mode enables distributed word2vec training across multiple CPU nodes, allowing almost linear scale up of word2vec computation to process hundreds of millions of words per second. Please refer to [*Parallelizing Word2Vec in Shared and Distributed Memory*](https://arxiv.org/pdf/1604.04661.pdf) to learn more."
   ]
  },
  {
   "cell_type": "markdown",
   "metadata": {},
   "source": [
    "BlazingText also supports a *supervised* mode for text classification. It extends the FastText text classifier to leverage GPU acceleration using custom CUDA kernels. The model can be trained on more than a billion words in a couple of minutes using a multi-core CPU or a GPU, while achieving performance on par with the state-of-the-art deep learning text classification algorithms. For more information, please refer to the [algorithm documentation](https://docs.aws.amazon.com/sagemaker/latest/dg/blazingtext.html)."
   ]
  },
  {
   "cell_type": "markdown",
   "metadata": {},
   "source": [
    "To summarize, the following modes are supported by BlazingText on different types instances:\n",
    "\n",
    "|          Modes         \t| cbow (supports subwords training) \t| skipgram (supports subwords training) \t| batch_skipgram \t| supervised |\n",
    "|:----------------------:\t|:----:\t|:--------:\t|:--------------:\t| :--------------:\t|\n",
    "|   Single CPU instance  \t|   ✔  \t|     ✔    \t|        ✔       \t|  ✔  |\n",
    "|   Single GPU instance  \t|   ✔  \t|     ✔    \t|                \t|  ✔ (Instance with 1 GPU only)  |\n",
    "| Multiple CPU instances \t|      \t|          \t|        ✔       \t|     | |\n",
    "\n",
    "Now, let's define the SageMaker `Estimator` with resource configurations and hyperparameters to train Text Classification on *DBPedia* dataset, using \"supervised\" mode on a `c4.4xlarge` instance.\n"
   ]
  },
  {
   "cell_type": "code",
   "execution_count": 54,
   "metadata": {},
   "outputs": [],
   "source": [
    "bt_model = sagemaker.estimator.Estimator(container,\n",
    "                                         role, \n",
    "                                         train_instance_count=1, \n",
    "                                         train_instance_type='ml.c4.4xlarge',\n",
    "                                         train_volume_size = 30,\n",
    "                                         train_max_run = 360000,\n",
    "                                         input_mode= 'File',\n",
    "                                         output_path=s3_output_location,\n",
    "                                         sagemaker_session=sess)"
   ]
  },
  {
   "cell_type": "markdown",
   "metadata": {},
   "source": [
    "Please refer to [algorithm documentation](https://docs.aws.amazon.com/sagemaker/latest/dg/blazingtext_hyperparameters.html) for the complete list of hyperparameters."
   ]
  },
  {
   "cell_type": "code",
   "execution_count": 55,
   "metadata": {},
   "outputs": [],
   "source": [
    "bt_model.set_hyperparameters(mode=\"supervised\",\n",
    "                            epochs=10,\n",
    "                            min_count=2,\n",
    "                            learning_rate=0.05,\n",
    "                            vector_dim=10,\n",
    "                            early_stopping=True,\n",
    "                            patience=4,\n",
    "                            min_epochs=5,\n",
    "                            word_ngrams=2)"
   ]
  },
  {
   "cell_type": "markdown",
   "metadata": {},
   "source": [
    "# We will tune hyperparameters in this examples:\n",
    "\n",
    "1.buckets:The number of hash buckets to use for word n-grams.\n",
    "2.early_stopping:Whether to stop training if validation accuracy doesn't improve after a patience number of epochs.\n",
    "3.epochs:The maximum number of complete passes through the training data.\n",
    "4.learning_rate :The step size used for parameter updates.\n",
    "5.min_count : Words that appear less than min_count times are discarded.\n",
    "6.vector_dim: The dimension of the embedding layer.\n",
    "7.word_ngrams : The number of word n-gram features to use."
   ]
  },
  {
   "cell_type": "code",
   "execution_count": 56,
   "metadata": {},
   "outputs": [],
   "source": [
    "\n",
    "from sagemaker.tuner import IntegerParameter, ContinuousParameter, HyperparameterTuner\n",
    "hyperparameter_ranges = {'buckets': IntegerParameter(1000000,10000000),\n",
    "                        'epochs': IntegerParameter(5, 15),\n",
    "                        'learning_rate': ContinuousParameter(0.005,0.01),\n",
    "                        'min_count': IntegerParameter(0, 100),\n",
    "                        'vector_dim': IntegerParameter(32,300),\n",
    "                        'word_ngrams': IntegerParameter(1,3)}\n"
   ]
  },
  {
   "cell_type": "markdown",
   "metadata": {},
   "source": [
    "\n",
    "\n",
    "Next we'll specify the objective metric that we'd like to tune and its definition.The BlazingText Text Classification algorithm (supervised mode), reports on a single metric during training: the validation:accuracy. When tuning the hyperparameter values for the text classification algorithm, use these metrics as the objective."
   ]
  },
  {
   "cell_type": "code",
   "execution_count": 57,
   "metadata": {},
   "outputs": [],
   "source": [
    "objective_metric_name = 'validation:accuracy'\n",
    "objective_type='Maximize'\n"
   ]
  },
  {
   "cell_type": "markdown",
   "metadata": {},
   "source": [
    "# Now, we'll create a HyperparameterTuner object, to which we pass:\n",
    "\n",
    "    1.The Blazing Text estimator we created above\n",
    "    2.Our hyperparameter ranges\n",
    "    3.Objective metric name and definition\n",
    "    4.Tuning resource configurations such as Number of training jobs to run in total and how many training jobs can be run in parallel.\n",
    "\n"
   ]
  },
  {
   "cell_type": "code",
   "execution_count": 58,
   "metadata": {},
   "outputs": [],
   "source": [
    "tuner = HyperparameterTuner(bt_model,\n",
    "                            objective_metric_name,\n",
    "                            hyperparameter_ranges,\n",
    "                            max_jobs=20,\n",
    "                            max_parallel_jobs=3)"
   ]
  },
  {
   "cell_type": "markdown",
   "metadata": {},
   "source": [
    "Now that the hyper-parameters are setup, let us prepare the handshake between our data channels and the algorithm. To do this, we need to create the `sagemaker.session.s3_input` objects from our data channels. These objects are then put in a simple dictionary, which the algorithm consumes."
   ]
  },
  {
   "cell_type": "code",
   "execution_count": 26,
   "metadata": {},
   "outputs": [],
   "source": [
    "train_data = sagemaker.session.s3_input(s3_train_data, distribution='FullyReplicated', \n",
    "                        content_type='text/plain', s3_data_type='S3Prefix')\n",
    "validation_data = sagemaker.session.s3_input(s3_validation_data, distribution='FullyReplicated', \n",
    "                             content_type='text/plain', s3_data_type='S3Prefix')\n",
    "data_channels = {'train': train_data, 'validation': validation_data}"
   ]
  },
  {
   "cell_type": "markdown",
   "metadata": {},
   "source": [
    "# Launch_Hyperparameter_Tuning\n",
    "\n",
    "Now we can launch a hyperparameter tuning job by calling fit() function. After the hyperparameter tuning job is created, we can go to SageMaker console to track the progress of the hyperparameter tuning job until it is completed.\n"
   ]
  },
  {
   "cell_type": "code",
   "execution_count": 59,
   "metadata": {},
   "outputs": [],
   "source": [
    "tuner.fit({'train': train_data, 'validation': validation_data},job_name='hyper-tuning', include_cls_metadata=False)"
   ]
  },
  {
   "cell_type": "markdown",
   "metadata": {},
   "source": [
    "Let's just run a quick check of the hyperparameter tuning jobs status to make sure it started successfully.\n"
   ]
  },
  {
   "cell_type": "code",
   "execution_count": 60,
   "metadata": {},
   "outputs": [
    {
     "data": {
      "text/plain": [
       "'InProgress'"
      ]
     },
     "execution_count": 60,
     "metadata": {},
     "output_type": "execute_result"
    }
   ],
   "source": [
    "boto3.client('sagemaker').describe_hyper_parameter_tuning_job(\n",
    "    HyperParameterTuningJobName=tuner.latest_tuning_job.job_name)['HyperParameterTuningJobStatus']\n",
    "\n"
   ]
  },
  {
   "cell_type": "code",
   "execution_count": 61,
   "metadata": {},
   "outputs": [],
   "source": [
    "\n",
    "tuning_job_name = 'hyper-tuning'"
   ]
  },
  {
   "cell_type": "markdown",
   "metadata": {},
   "source": [
    "# Track hyperparameter tuning job progress\n",
    "\n",
    "After you launch a tuning job, you can see its progress by calling describe_tuning_job API. The output from describe-tuning-job is a JSON object that contains information about the current state of the tuning job. You can call list_training_jobs_for_tuning_job to see a detailed list of the training jobs that the tuning job launche"
   ]
  },
  {
   "cell_type": "code",
   "execution_count": 65,
   "metadata": {},
   "outputs": [
    {
     "name": "stdout",
     "output_type": "stream",
     "text": [
      "Reminder: the tuning job has not been completed.\n",
      "8 training jobs have completed\n"
     ]
    }
   ],
   "source": [
    "\n",
    "# run this cell to check current status of hyperparameter tuning job\n",
    "tuning_job_result = sage_client.describe_hyper_parameter_tuning_job(HyperParameterTuningJobName=tuner.latest_tuning_job.job_name)\n",
    "\n",
    "status = tuning_job_result['HyperParameterTuningJobStatus']\n",
    "if status != 'Completed':\n",
    "    print('Reminder: the tuning job has not been completed.')\n",
    "    \n",
    "job_count = tuning_job_result['TrainingJobStatusCounters']['Completed']\n",
    "print(\"%d training jobs have completed\" % job_count)\n",
    "    \n",
    "is_minimize = (tuning_job_result['HyperParameterTuningJobConfig']['HyperParameterTuningJobObjective']['Type'] != 'Maximize')\n",
    "objective_name = tuning_job_result['HyperParameterTuningJobConfig']['HyperParameterTuningJobObjective']['MetricName']"
   ]
  },
  {
   "cell_type": "code",
   "execution_count": 66,
   "metadata": {},
   "outputs": [
    {
     "name": "stdout",
     "output_type": "stream",
     "text": [
      "Best model found so far:\n",
      "{'CreationTime': datetime.datetime(2019, 7, 17, 16, 59, 6, tzinfo=tzlocal()),\n",
      " 'FinalHyperParameterTuningJobObjectiveMetric': {'MetricName': 'validation:accuracy',\n",
      "                                                 'Value': 0.9539999961853027},\n",
      " 'ObjectiveStatus': 'Succeeded',\n",
      " 'TrainingEndTime': datetime.datetime(2019, 7, 17, 17, 2, 8, tzinfo=tzlocal()),\n",
      " 'TrainingJobArn': 'arn:aws:sagemaker:us-east-1:820570838999:training-job/hyper-tuning-005-023243d8',\n",
      " 'TrainingJobName': 'hyper-tuning-005-023243d8',\n",
      " 'TrainingJobStatus': 'Completed',\n",
      " 'TrainingStartTime': datetime.datetime(2019, 7, 17, 17, 1, 9, tzinfo=tzlocal()),\n",
      " 'TunedHyperParameters': {'buckets': '1412406',\n",
      "                          'epochs': '14',\n",
      "                          'learning_rate': '0.008522898461083265',\n",
      "                          'min_count': '17',\n",
      "                          'vector_dim': '114',\n",
      "                          'word_ngrams': '1'}}\n"
     ]
    }
   ],
   "source": [
    "from pprint import pprint\n",
    "if tuning_job_result.get('BestTrainingJob',None):\n",
    "    print(\"Best model found so far:\")\n",
    "    pprint(tuning_job_result['BestTrainingJob'])\n",
    "else:\n",
    "    print(\"No training jobs have reported results yet.\")"
   ]
  },
  {
   "cell_type": "markdown",
   "metadata": {},
   "source": [
    "# Fetch all results as DataFrame\n",
    "\n",
    "We can list hyperparameters and objective metrics of all training jobs and pick up the training job with the best objective metric.\n"
   ]
  },
  {
   "cell_type": "code",
   "execution_count": 68,
   "metadata": {},
   "outputs": [
    {
     "name": "stdout",
     "output_type": "stream",
     "text": [
      "Number of training jobs with valid objective: 9\n",
      "{'lowest': 0.09223999828100204, 'highest': 0.9539999961853027}\n"
     ]
    }
   ],
   "source": [
    "\n",
    "\n",
    "import pandas as pd\n",
    "\n",
    "tuner = sagemaker.HyperparameterTuningJobAnalytics(tuning_job_name)\n",
    "\n",
    "full_df = tuner.dataframe()\n",
    "\n",
    "if len(full_df) > 0:\n",
    "    df = full_df[full_df['FinalObjectiveValue'] > -float('inf')]\n",
    "    if len(df) > 0:\n",
    "        df = df.sort_values('FinalObjectiveValue', ascending=is_minimize)\n",
    "        print(\"Number of training jobs with valid objective: %d\" % len(df))\n",
    "        print({\"lowest\":min(df['FinalObjectiveValue']),\"highest\": max(df['FinalObjectiveValue'])})\n",
    "        pd.set_option('display.max_colwidth', -1)  # Don't truncate TrainingJobName        \n",
    "    else:\n",
    "        print(\"No training jobs have reported valid results yet.\")\n",
    "      "
   ]
  },
  {
   "cell_type": "markdown",
   "metadata": {},
   "source": [
    "# See TuningJob results vs time\n",
    "\n",
    "Next we will show how the objective metric changes over time, as the tuning job progresses. For Bayesian strategy, you should expect to see a general trend towards better results, but this progress will not be steady as the algorithm needs to balance exploration of new areas of parameter space against exploitation of known good areas. This can give you a sense of whether or not the number of training jobs is sufficient for the complexity of your search space.\n"
   ]
  },
  {
   "cell_type": "code",
   "execution_count": 69,
   "metadata": {},
   "outputs": [
    {
     "data": {
      "text/html": [
       "\n",
       "    <div class=\"bk-root\">\n",
       "        <a href=\"https://bokeh.pydata.org\" target=\"_blank\" class=\"bk-logo bk-logo-small bk-logo-notebook\"></a>\n",
       "        <span id=\"1004\">Loading BokehJS ...</span>\n",
       "    </div>"
      ]
     },
     "metadata": {},
     "output_type": "display_data"
    },
    {
     "data": {
      "application/javascript": [
       "\n",
       "(function(root) {\n",
       "  function now() {\n",
       "    return new Date();\n",
       "  }\n",
       "\n",
       "  var force = true;\n",
       "\n",
       "  if (typeof (root._bokeh_onload_callbacks) === \"undefined\" || force === true) {\n",
       "    root._bokeh_onload_callbacks = [];\n",
       "    root._bokeh_is_loading = undefined;\n",
       "  }\n",
       "\n",
       "  var JS_MIME_TYPE = 'application/javascript';\n",
       "  var HTML_MIME_TYPE = 'text/html';\n",
       "  var EXEC_MIME_TYPE = 'application/vnd.bokehjs_exec.v0+json';\n",
       "  var CLASS_NAME = 'output_bokeh rendered_html';\n",
       "\n",
       "  /**\n",
       "   * Render data to the DOM node\n",
       "   */\n",
       "  function render(props, node) {\n",
       "    var script = document.createElement(\"script\");\n",
       "    node.appendChild(script);\n",
       "  }\n",
       "\n",
       "  /**\n",
       "   * Handle when an output is cleared or removed\n",
       "   */\n",
       "  function handleClearOutput(event, handle) {\n",
       "    var cell = handle.cell;\n",
       "\n",
       "    var id = cell.output_area._bokeh_element_id;\n",
       "    var server_id = cell.output_area._bokeh_server_id;\n",
       "    // Clean up Bokeh references\n",
       "    if (id != null && id in Bokeh.index) {\n",
       "      Bokeh.index[id].model.document.clear();\n",
       "      delete Bokeh.index[id];\n",
       "    }\n",
       "\n",
       "    if (server_id !== undefined) {\n",
       "      // Clean up Bokeh references\n",
       "      var cmd = \"from bokeh.io.state import curstate; print(curstate().uuid_to_server['\" + server_id + \"'].get_sessions()[0].document.roots[0]._id)\";\n",
       "      cell.notebook.kernel.execute(cmd, {\n",
       "        iopub: {\n",
       "          output: function(msg) {\n",
       "            var id = msg.content.text.trim();\n",
       "            if (id in Bokeh.index) {\n",
       "              Bokeh.index[id].model.document.clear();\n",
       "              delete Bokeh.index[id];\n",
       "            }\n",
       "          }\n",
       "        }\n",
       "      });\n",
       "      // Destroy server and session\n",
       "      var cmd = \"import bokeh.io.notebook as ion; ion.destroy_server('\" + server_id + \"')\";\n",
       "      cell.notebook.kernel.execute(cmd);\n",
       "    }\n",
       "  }\n",
       "\n",
       "  /**\n",
       "   * Handle when a new output is added\n",
       "   */\n",
       "  function handleAddOutput(event, handle) {\n",
       "    var output_area = handle.output_area;\n",
       "    var output = handle.output;\n",
       "\n",
       "    // limit handleAddOutput to display_data with EXEC_MIME_TYPE content only\n",
       "    if ((output.output_type != \"display_data\") || (!output.data.hasOwnProperty(EXEC_MIME_TYPE))) {\n",
       "      return\n",
       "    }\n",
       "\n",
       "    var toinsert = output_area.element.find(\".\" + CLASS_NAME.split(' ')[0]);\n",
       "\n",
       "    if (output.metadata[EXEC_MIME_TYPE][\"id\"] !== undefined) {\n",
       "      toinsert[toinsert.length - 1].firstChild.textContent = output.data[JS_MIME_TYPE];\n",
       "      // store reference to embed id on output_area\n",
       "      output_area._bokeh_element_id = output.metadata[EXEC_MIME_TYPE][\"id\"];\n",
       "    }\n",
       "    if (output.metadata[EXEC_MIME_TYPE][\"server_id\"] !== undefined) {\n",
       "      var bk_div = document.createElement(\"div\");\n",
       "      bk_div.innerHTML = output.data[HTML_MIME_TYPE];\n",
       "      var script_attrs = bk_div.children[0].attributes;\n",
       "      for (var i = 0; i < script_attrs.length; i++) {\n",
       "        toinsert[toinsert.length - 1].firstChild.setAttribute(script_attrs[i].name, script_attrs[i].value);\n",
       "      }\n",
       "      // store reference to server id on output_area\n",
       "      output_area._bokeh_server_id = output.metadata[EXEC_MIME_TYPE][\"server_id\"];\n",
       "    }\n",
       "  }\n",
       "\n",
       "  function register_renderer(events, OutputArea) {\n",
       "\n",
       "    function append_mime(data, metadata, element) {\n",
       "      // create a DOM node to render to\n",
       "      var toinsert = this.create_output_subarea(\n",
       "        metadata,\n",
       "        CLASS_NAME,\n",
       "        EXEC_MIME_TYPE\n",
       "      );\n",
       "      this.keyboard_manager.register_events(toinsert);\n",
       "      // Render to node\n",
       "      var props = {data: data, metadata: metadata[EXEC_MIME_TYPE]};\n",
       "      render(props, toinsert[toinsert.length - 1]);\n",
       "      element.append(toinsert);\n",
       "      return toinsert\n",
       "    }\n",
       "\n",
       "    /* Handle when an output is cleared or removed */\n",
       "    events.on('clear_output.CodeCell', handleClearOutput);\n",
       "    events.on('delete.Cell', handleClearOutput);\n",
       "\n",
       "    /* Handle when a new output is added */\n",
       "    events.on('output_added.OutputArea', handleAddOutput);\n",
       "\n",
       "    /**\n",
       "     * Register the mime type and append_mime function with output_area\n",
       "     */\n",
       "    OutputArea.prototype.register_mime_type(EXEC_MIME_TYPE, append_mime, {\n",
       "      /* Is output safe? */\n",
       "      safe: true,\n",
       "      /* Index of renderer in `output_area.display_order` */\n",
       "      index: 0\n",
       "    });\n",
       "  }\n",
       "\n",
       "  // register the mime type if in Jupyter Notebook environment and previously unregistered\n",
       "  if (root.Jupyter !== undefined) {\n",
       "    var events = require('base/js/events');\n",
       "    var OutputArea = require('notebook/js/outputarea').OutputArea;\n",
       "\n",
       "    if (OutputArea.prototype.mime_types().indexOf(EXEC_MIME_TYPE) == -1) {\n",
       "      register_renderer(events, OutputArea);\n",
       "    }\n",
       "  }\n",
       "\n",
       "  \n",
       "  if (typeof (root._bokeh_timeout) === \"undefined\" || force === true) {\n",
       "    root._bokeh_timeout = Date.now() + 5000;\n",
       "    root._bokeh_failed_load = false;\n",
       "  }\n",
       "\n",
       "  var NB_LOAD_WARNING = {'data': {'text/html':\n",
       "     \"<div style='background-color: #fdd'>\\n\"+\n",
       "     \"<p>\\n\"+\n",
       "     \"BokehJS does not appear to have successfully loaded. If loading BokehJS from CDN, this \\n\"+\n",
       "     \"may be due to a slow or bad network connection. Possible fixes:\\n\"+\n",
       "     \"</p>\\n\"+\n",
       "     \"<ul>\\n\"+\n",
       "     \"<li>re-rerun `output_notebook()` to attempt to load from CDN again, or</li>\\n\"+\n",
       "     \"<li>use INLINE resources instead, as so:</li>\\n\"+\n",
       "     \"</ul>\\n\"+\n",
       "     \"<code>\\n\"+\n",
       "     \"from bokeh.resources import INLINE\\n\"+\n",
       "     \"output_notebook(resources=INLINE)\\n\"+\n",
       "     \"</code>\\n\"+\n",
       "     \"</div>\"}};\n",
       "\n",
       "  function display_loaded() {\n",
       "    var el = document.getElementById(\"1004\");\n",
       "    if (el != null) {\n",
       "      el.textContent = \"BokehJS is loading...\";\n",
       "    }\n",
       "    if (root.Bokeh !== undefined) {\n",
       "      if (el != null) {\n",
       "        el.textContent = \"BokehJS \" + root.Bokeh.version + \" successfully loaded.\";\n",
       "      }\n",
       "    } else if (Date.now() < root._bokeh_timeout) {\n",
       "      setTimeout(display_loaded, 100)\n",
       "    }\n",
       "  }\n",
       "\n",
       "\n",
       "  function run_callbacks() {\n",
       "    try {\n",
       "      root._bokeh_onload_callbacks.forEach(function(callback) { callback() });\n",
       "    }\n",
       "    finally {\n",
       "      delete root._bokeh_onload_callbacks\n",
       "    }\n",
       "    console.info(\"Bokeh: all callbacks have finished\");\n",
       "  }\n",
       "\n",
       "  function load_libs(js_urls, callback) {\n",
       "    root._bokeh_onload_callbacks.push(callback);\n",
       "    if (root._bokeh_is_loading > 0) {\n",
       "      console.log(\"Bokeh: BokehJS is being loaded, scheduling callback at\", now());\n",
       "      return null;\n",
       "    }\n",
       "    if (js_urls == null || js_urls.length === 0) {\n",
       "      run_callbacks();\n",
       "      return null;\n",
       "    }\n",
       "    console.log(\"Bokeh: BokehJS not loaded, scheduling load and callback at\", now());\n",
       "    root._bokeh_is_loading = js_urls.length;\n",
       "    for (var i = 0; i < js_urls.length; i++) {\n",
       "      var url = js_urls[i];\n",
       "      var s = document.createElement('script');\n",
       "      s.src = url;\n",
       "      s.async = false;\n",
       "      s.onreadystatechange = s.onload = function() {\n",
       "        root._bokeh_is_loading--;\n",
       "        if (root._bokeh_is_loading === 0) {\n",
       "          console.log(\"Bokeh: all BokehJS libraries loaded\");\n",
       "          run_callbacks()\n",
       "        }\n",
       "      };\n",
       "      s.onerror = function() {\n",
       "        console.warn(\"failed to load library \" + url);\n",
       "      };\n",
       "      console.log(\"Bokeh: injecting script tag for BokehJS library: \", url);\n",
       "      document.getElementsByTagName(\"head\")[0].appendChild(s);\n",
       "    }\n",
       "  };var element = document.getElementById(\"1004\");\n",
       "  if (element == null) {\n",
       "    console.log(\"Bokeh: ERROR: autoload.js configured with elementid '1004' but no matching script tag was found. \")\n",
       "    return false;\n",
       "  }\n",
       "\n",
       "  var js_urls = [\"https://cdn.pydata.org/bokeh/release/bokeh-1.0.4.min.js\", \"https://cdn.pydata.org/bokeh/release/bokeh-widgets-1.0.4.min.js\", \"https://cdn.pydata.org/bokeh/release/bokeh-tables-1.0.4.min.js\", \"https://cdn.pydata.org/bokeh/release/bokeh-gl-1.0.4.min.js\"];\n",
       "\n",
       "  var inline_js = [\n",
       "    function(Bokeh) {\n",
       "      Bokeh.set_log_level(\"info\");\n",
       "    },\n",
       "    \n",
       "    function(Bokeh) {\n",
       "      \n",
       "    },\n",
       "    function(Bokeh) {\n",
       "      console.log(\"Bokeh: injecting CSS: https://cdn.pydata.org/bokeh/release/bokeh-1.0.4.min.css\");\n",
       "      Bokeh.embed.inject_css(\"https://cdn.pydata.org/bokeh/release/bokeh-1.0.4.min.css\");\n",
       "      console.log(\"Bokeh: injecting CSS: https://cdn.pydata.org/bokeh/release/bokeh-widgets-1.0.4.min.css\");\n",
       "      Bokeh.embed.inject_css(\"https://cdn.pydata.org/bokeh/release/bokeh-widgets-1.0.4.min.css\");\n",
       "      console.log(\"Bokeh: injecting CSS: https://cdn.pydata.org/bokeh/release/bokeh-tables-1.0.4.min.css\");\n",
       "      Bokeh.embed.inject_css(\"https://cdn.pydata.org/bokeh/release/bokeh-tables-1.0.4.min.css\");\n",
       "    }\n",
       "  ];\n",
       "\n",
       "  function run_inline_js() {\n",
       "    \n",
       "    if ((root.Bokeh !== undefined) || (force === true)) {\n",
       "      for (var i = 0; i < inline_js.length; i++) {\n",
       "        inline_js[i].call(root, root.Bokeh);\n",
       "      }if (force === true) {\n",
       "        display_loaded();\n",
       "      }} else if (Date.now() < root._bokeh_timeout) {\n",
       "      setTimeout(run_inline_js, 100);\n",
       "    } else if (!root._bokeh_failed_load) {\n",
       "      console.log(\"Bokeh: BokehJS failed to load within specified timeout.\");\n",
       "      root._bokeh_failed_load = true;\n",
       "    } else if (force !== true) {\n",
       "      var cell = $(document.getElementById(\"1004\")).parents('.cell').data().cell;\n",
       "      cell.output_area.append_execute_result(NB_LOAD_WARNING)\n",
       "    }\n",
       "\n",
       "  }\n",
       "\n",
       "  if (root._bokeh_is_loading === 0) {\n",
       "    console.log(\"Bokeh: BokehJS loaded, going straight to plotting\");\n",
       "    run_inline_js();\n",
       "  } else {\n",
       "    load_libs(js_urls, function() {\n",
       "      console.log(\"Bokeh: BokehJS plotting callback run at\", now());\n",
       "      run_inline_js();\n",
       "    });\n",
       "  }\n",
       "}(window));"
      ],
      "application/vnd.bokehjs_load.v0+json": "\n(function(root) {\n  function now() {\n    return new Date();\n  }\n\n  var force = true;\n\n  if (typeof (root._bokeh_onload_callbacks) === \"undefined\" || force === true) {\n    root._bokeh_onload_callbacks = [];\n    root._bokeh_is_loading = undefined;\n  }\n\n  \n\n  \n  if (typeof (root._bokeh_timeout) === \"undefined\" || force === true) {\n    root._bokeh_timeout = Date.now() + 5000;\n    root._bokeh_failed_load = false;\n  }\n\n  var NB_LOAD_WARNING = {'data': {'text/html':\n     \"<div style='background-color: #fdd'>\\n\"+\n     \"<p>\\n\"+\n     \"BokehJS does not appear to have successfully loaded. If loading BokehJS from CDN, this \\n\"+\n     \"may be due to a slow or bad network connection. Possible fixes:\\n\"+\n     \"</p>\\n\"+\n     \"<ul>\\n\"+\n     \"<li>re-rerun `output_notebook()` to attempt to load from CDN again, or</li>\\n\"+\n     \"<li>use INLINE resources instead, as so:</li>\\n\"+\n     \"</ul>\\n\"+\n     \"<code>\\n\"+\n     \"from bokeh.resources import INLINE\\n\"+\n     \"output_notebook(resources=INLINE)\\n\"+\n     \"</code>\\n\"+\n     \"</div>\"}};\n\n  function display_loaded() {\n    var el = document.getElementById(\"1004\");\n    if (el != null) {\n      el.textContent = \"BokehJS is loading...\";\n    }\n    if (root.Bokeh !== undefined) {\n      if (el != null) {\n        el.textContent = \"BokehJS \" + root.Bokeh.version + \" successfully loaded.\";\n      }\n    } else if (Date.now() < root._bokeh_timeout) {\n      setTimeout(display_loaded, 100)\n    }\n  }\n\n\n  function run_callbacks() {\n    try {\n      root._bokeh_onload_callbacks.forEach(function(callback) { callback() });\n    }\n    finally {\n      delete root._bokeh_onload_callbacks\n    }\n    console.info(\"Bokeh: all callbacks have finished\");\n  }\n\n  function load_libs(js_urls, callback) {\n    root._bokeh_onload_callbacks.push(callback);\n    if (root._bokeh_is_loading > 0) {\n      console.log(\"Bokeh: BokehJS is being loaded, scheduling callback at\", now());\n      return null;\n    }\n    if (js_urls == null || js_urls.length === 0) {\n      run_callbacks();\n      return null;\n    }\n    console.log(\"Bokeh: BokehJS not loaded, scheduling load and callback at\", now());\n    root._bokeh_is_loading = js_urls.length;\n    for (var i = 0; i < js_urls.length; i++) {\n      var url = js_urls[i];\n      var s = document.createElement('script');\n      s.src = url;\n      s.async = false;\n      s.onreadystatechange = s.onload = function() {\n        root._bokeh_is_loading--;\n        if (root._bokeh_is_loading === 0) {\n          console.log(\"Bokeh: all BokehJS libraries loaded\");\n          run_callbacks()\n        }\n      };\n      s.onerror = function() {\n        console.warn(\"failed to load library \" + url);\n      };\n      console.log(\"Bokeh: injecting script tag for BokehJS library: \", url);\n      document.getElementsByTagName(\"head\")[0].appendChild(s);\n    }\n  };var element = document.getElementById(\"1004\");\n  if (element == null) {\n    console.log(\"Bokeh: ERROR: autoload.js configured with elementid '1004' but no matching script tag was found. \")\n    return false;\n  }\n\n  var js_urls = [\"https://cdn.pydata.org/bokeh/release/bokeh-1.0.4.min.js\", \"https://cdn.pydata.org/bokeh/release/bokeh-widgets-1.0.4.min.js\", \"https://cdn.pydata.org/bokeh/release/bokeh-tables-1.0.4.min.js\", \"https://cdn.pydata.org/bokeh/release/bokeh-gl-1.0.4.min.js\"];\n\n  var inline_js = [\n    function(Bokeh) {\n      Bokeh.set_log_level(\"info\");\n    },\n    \n    function(Bokeh) {\n      \n    },\n    function(Bokeh) {\n      console.log(\"Bokeh: injecting CSS: https://cdn.pydata.org/bokeh/release/bokeh-1.0.4.min.css\");\n      Bokeh.embed.inject_css(\"https://cdn.pydata.org/bokeh/release/bokeh-1.0.4.min.css\");\n      console.log(\"Bokeh: injecting CSS: https://cdn.pydata.org/bokeh/release/bokeh-widgets-1.0.4.min.css\");\n      Bokeh.embed.inject_css(\"https://cdn.pydata.org/bokeh/release/bokeh-widgets-1.0.4.min.css\");\n      console.log(\"Bokeh: injecting CSS: https://cdn.pydata.org/bokeh/release/bokeh-tables-1.0.4.min.css\");\n      Bokeh.embed.inject_css(\"https://cdn.pydata.org/bokeh/release/bokeh-tables-1.0.4.min.css\");\n    }\n  ];\n\n  function run_inline_js() {\n    \n    if ((root.Bokeh !== undefined) || (force === true)) {\n      for (var i = 0; i < inline_js.length; i++) {\n        inline_js[i].call(root, root.Bokeh);\n      }if (force === true) {\n        display_loaded();\n      }} else if (Date.now() < root._bokeh_timeout) {\n      setTimeout(run_inline_js, 100);\n    } else if (!root._bokeh_failed_load) {\n      console.log(\"Bokeh: BokehJS failed to load within specified timeout.\");\n      root._bokeh_failed_load = true;\n    } else if (force !== true) {\n      var cell = $(document.getElementById(\"1004\")).parents('.cell').data().cell;\n      cell.output_area.append_execute_result(NB_LOAD_WARNING)\n    }\n\n  }\n\n  if (root._bokeh_is_loading === 0) {\n    console.log(\"Bokeh: BokehJS loaded, going straight to plotting\");\n    run_inline_js();\n  } else {\n    load_libs(js_urls, function() {\n      console.log(\"Bokeh: BokehJS plotting callback run at\", now());\n      run_inline_js();\n    });\n  }\n}(window));"
     },
     "metadata": {},
     "output_type": "display_data"
    },
    {
     "data": {
      "text/html": [
       "\n",
       "\n",
       "\n",
       "\n",
       "\n",
       "\n",
       "  <div class=\"bk-root\" id=\"4bb4d859-836f-48d2-897c-89d0f6775b06\" data-root-id=\"1006\"></div>\n"
      ]
     },
     "metadata": {},
     "output_type": "display_data"
    },
    {
     "data": {
      "application/javascript": [
       "(function(root) {\n",
       "  function embed_document(root) {\n",
       "    \n",
       "  var docs_json = {\"67fa2e58-b75d-4bc4-a73d-97d08d4a90b5\":{\"roots\":{\"references\":[{\"attributes\":{\"below\":[{\"id\":\"1015\",\"type\":\"DatetimeAxis\"}],\"left\":[{\"id\":\"1020\",\"type\":\"LinearAxis\"}],\"plot_height\":400,\"plot_width\":900,\"renderers\":[{\"id\":\"1015\",\"type\":\"DatetimeAxis\"},{\"id\":\"1019\",\"type\":\"Grid\"},{\"id\":\"1020\",\"type\":\"LinearAxis\"},{\"id\":\"1024\",\"type\":\"Grid\"},{\"id\":\"1045\",\"type\":\"GlyphRenderer\"}],\"title\":{\"id\":\"1047\",\"type\":\"Title\"},\"toolbar\":{\"id\":\"1032\",\"type\":\"Toolbar\"},\"x_range\":{\"id\":\"1007\",\"type\":\"DataRange1d\"},\"x_scale\":{\"id\":\"1011\",\"type\":\"LinearScale\"},\"y_range\":{\"id\":\"1009\",\"type\":\"DataRange1d\"},\"y_scale\":{\"id\":\"1013\",\"type\":\"LinearScale\"}},\"id\":\"1006\",\"subtype\":\"Figure\",\"type\":\"Plot\"},{\"attributes\":{\"days\":[1,15]},\"id\":\"1059\",\"type\":\"DaysTicker\"},{\"attributes\":{},\"id\":\"1031\",\"type\":\"ResetTool\"},{\"attributes\":{\"plot\":{\"id\":\"1006\",\"subtype\":\"Figure\",\"type\":\"Plot\"},\"ticker\":{\"id\":\"1016\",\"type\":\"DatetimeTicker\"}},\"id\":\"1019\",\"type\":\"Grid\"},{\"attributes\":{},\"id\":\"1021\",\"type\":\"BasicTicker\"},{\"attributes\":{\"months\":[0,1,2,3,4,5,6,7,8,9,10,11]},\"id\":\"1060\",\"type\":\"MonthsTicker\"},{\"attributes\":{\"formatter\":{\"id\":\"1052\",\"type\":\"BasicTickFormatter\"},\"plot\":{\"id\":\"1006\",\"subtype\":\"Figure\",\"type\":\"Plot\"},\"ticker\":{\"id\":\"1021\",\"type\":\"BasicTicker\"}},\"id\":\"1020\",\"type\":\"LinearAxis\"},{\"attributes\":{},\"id\":\"1027\",\"type\":\"WheelZoomTool\"},{\"attributes\":{\"active_drag\":\"auto\",\"active_inspect\":\"auto\",\"active_multi\":null,\"active_scroll\":\"auto\",\"active_tap\":\"auto\",\"tools\":[{\"id\":\"1005\",\"type\":\"HoverTool\"},{\"id\":\"1025\",\"type\":\"PanTool\"},{\"id\":\"1026\",\"type\":\"CrosshairTool\"},{\"id\":\"1027\",\"type\":\"WheelZoomTool\"},{\"id\":\"1028\",\"type\":\"ZoomInTool\"},{\"id\":\"1029\",\"type\":\"ZoomOutTool\"},{\"id\":\"1030\",\"type\":\"UndoTool\"},{\"id\":\"1031\",\"type\":\"ResetTool\"}]},\"id\":\"1032\",\"type\":\"Toolbar\"},{\"attributes\":{\"fill_color\":{\"value\":\"#1f77b4\"},\"line_color\":{\"value\":\"#1f77b4\"},\"x\":{\"field\":\"TrainingStartTime\"},\"y\":{\"field\":\"FinalObjectiveValue\"}},\"id\":\"1043\",\"type\":\"Circle\"},{\"attributes\":{\"months\":[0,2,4,6,8,10]},\"id\":\"1061\",\"type\":\"MonthsTicker\"},{\"attributes\":{\"data_source\":{\"id\":\"1041\",\"type\":\"ColumnDataSource\"},\"glyph\":{\"id\":\"1043\",\"type\":\"Circle\"},\"hover_glyph\":null,\"muted_glyph\":null,\"nonselection_glyph\":{\"id\":\"1044\",\"type\":\"Circle\"},\"selection_glyph\":null,\"view\":{\"id\":\"1046\",\"type\":\"CDSView\"}},\"id\":\"1045\",\"type\":\"GlyphRenderer\"},{\"attributes\":{\"months\":[0,4,8]},\"id\":\"1062\",\"type\":\"MonthsTicker\"},{\"attributes\":{\"fill_alpha\":{\"value\":0.1},\"fill_color\":{\"value\":\"#1f77b4\"},\"line_alpha\":{\"value\":0.1},\"line_color\":{\"value\":\"#1f77b4\"},\"x\":{\"field\":\"TrainingStartTime\"},\"y\":{\"field\":\"FinalObjectiveValue\"}},\"id\":\"1044\",\"type\":\"Circle\"},{\"attributes\":{\"callback\":null,\"data\":{\"FinalObjectiveValue\":{\"__ndarray__\":\"AAAAACuH7j8AAACgy3/uPwAAAGBWfe4/AAAAYCJs7j8AAAAgwFvuPwAAACCDwOw/AAAAIMKG6z8AAACAHTjjPwAAAGAKnbc/\",\"dtype\":\"float64\",\"shape\":[9]},\"TrainingElapsedTimeSeconds\":{\"__ndarray__\":\"AAAAAACATUAAAAAAAABIQAAAAAAAAEhAAAAAAAAATEAAAAAAAIBGQAAAAAAAgEpAAAAAAADAZEAAAAAAABB/QAAAAAAA4G5A\",\"dtype\":\"float64\",\"shape\":[9]},\"TrainingEndTime\":{\"__ndarray__\":\"AAAoJQ7AdkIAAONuDsB2QgAAFFIOwHZCAICZ3g3AdkIAgFdmDsB2QgCAOIAOwHZCAABI9g3AdkIAgB1GDsB2QgAAFT0OwHZC\",\"dtype\":\"float64\",\"shape\":[9]},\"TrainingJobName\":[\"hyper-tuning-005-023243d8\",\"hyper-tuning-008-b52edcfb\",\"hyper-tuning-006-9f10a443\",\"hyper-tuning-003-05e09124\",\"hyper-tuning-007-05a5d708\",\"hyper-tuning-009-1306d7f2\",\"hyper-tuning-001-8171ae96\",\"hyper-tuning-002-46b62ac7\",\"hyper-tuning-004-a2a688fe\"],\"TrainingJobStatus\":[\"Completed\",\"Completed\",\"Completed\",\"Completed\",\"Completed\",\"Completed\",\"Completed\",\"Completed\",\"Completed\"],\"TrainingStartTime\":{\"__ndarray__\":\"AIDAFg7AdkIAACtjDsB2QgAAXEYOwHZCAIDt0A3AdkIAAFtbDsB2QgAASHMOwHZCAADBzQ3AdkIAAMfMDcB2QgCAxwAOwHZC\",\"dtype\":\"float64\",\"shape\":[9]},\"buckets\":{\"__ndarray__\":\"AAAAADaNNUEAAADAlntiQQAAAMCWe2JBAAAAAM6hRkEAAABACcVdQQAAAADWI0lBAAAAAPb6T0EAAABAGo1TQQAAAADEyDVB\",\"dtype\":\"float64\",\"shape\":[9]},\"epochs\":{\"__ndarray__\":\"AAAAAAAALEAAAAAAAAAqQAAAAAAAACpAAAAAAAAAKkAAAAAAAAAkQAAAAAAAACBAAAAAAAAAJEAAAAAAAAAmQAAAAAAAABhA\",\"dtype\":\"float64\",\"shape\":[9]},\"index\":[7,4,6,9,5,3,11,10,8],\"learning_rate\":{\"__ndarray__\":\"lYVCEXR0gT+A1/ov+WGBP4DX+i/5YYE/5wdm0mFdgD9EzSOMiByDP62cyip5/ns/j3Mu0q0hgD/tnKdPKFB6PxLDNCbP6XQ/\",\"dtype\":\"float64\",\"shape\":[9]},\"min_count\":{\"__ndarray__\":\"AAAAAAAAMUAAAAAAAABCQAAAAAAAAEJAAAAAAAAAQ0AAAAAAAMBRQAAAAAAAgFFAAAAAAACASkAAAAAAAAAIQAAAAAAAAAhA\",\"dtype\":\"float64\",\"shape\":[9]},\"vector_dim\":{\"__ndarray__\":\"AAAAAACAXEAAAAAAAMBQQAAAAAAAQFJAAAAAAABAVUAAAAAAAABCQAAAAAAAwG1AAAAAAACATUAAAAAAAIBlQAAAAAAAwHFA\",\"dtype\":\"float64\",\"shape\":[9]},\"word_ngrams\":{\"__ndarray__\":\"AAAAAAAA8D8AAAAAAADwPwAAAAAAAPA/AAAAAAAA8D8AAAAAAADwPwAAAAAAAPA/AAAAAAAAAEAAAAAAAAAIQAAAAAAAAAhA\",\"dtype\":\"float64\",\"shape\":[9]}},\"selected\":{\"id\":\"1066\",\"type\":\"Selection\"},\"selection_policy\":{\"id\":\"1065\",\"type\":\"UnionRenderers\"}},\"id\":\"1041\",\"type\":\"ColumnDataSource\"},{\"attributes\":{\"months\":[0,6]},\"id\":\"1063\",\"type\":\"MonthsTicker\"},{\"attributes\":{\"callback\":null},\"id\":\"1009\",\"type\":\"DataRange1d\"},{\"attributes\":{\"mantissas\":[1,2,5],\"max_interval\":500.0,\"num_minor_ticks\":0},\"id\":\"1053\",\"type\":\"AdaptiveTicker\"},{\"attributes\":{},\"id\":\"1064\",\"type\":\"YearsTicker\"},{\"attributes\":{},\"id\":\"1065\",\"type\":\"UnionRenderers\"},{\"attributes\":{},\"id\":\"1052\",\"type\":\"BasicTickFormatter\"},{\"attributes\":{\"callback\":null},\"id\":\"1007\",\"type\":\"DataRange1d\"},{\"attributes\":{\"days\":[1,8,15,22]},\"id\":\"1058\",\"type\":\"DaysTicker\"},{\"attributes\":{},\"id\":\"1066\",\"type\":\"Selection\"},{\"attributes\":{},\"id\":\"1050\",\"type\":\"DatetimeTickFormatter\"},{\"attributes\":{\"source\":{\"id\":\"1041\",\"type\":\"ColumnDataSource\"}},\"id\":\"1046\",\"type\":\"CDSView\"},{\"attributes\":{},\"id\":\"1025\",\"type\":\"PanTool\"},{\"attributes\":{\"base\":60,\"mantissas\":[1,2,5,10,15,20,30],\"max_interval\":1800000.0,\"min_interval\":1000.0,\"num_minor_ticks\":0},\"id\":\"1054\",\"type\":\"AdaptiveTicker\"},{\"attributes\":{},\"id\":\"1011\",\"type\":\"LinearScale\"},{\"attributes\":{\"formatter\":{\"id\":\"1050\",\"type\":\"DatetimeTickFormatter\"},\"plot\":{\"id\":\"1006\",\"subtype\":\"Figure\",\"type\":\"Plot\"},\"ticker\":{\"id\":\"1016\",\"type\":\"DatetimeTicker\"}},\"id\":\"1015\",\"type\":\"DatetimeAxis\"},{\"attributes\":{},\"id\":\"1026\",\"type\":\"CrosshairTool\"},{\"attributes\":{\"base\":24,\"mantissas\":[1,2,4,6,8,12],\"max_interval\":43200000.0,\"min_interval\":3600000.0,\"num_minor_ticks\":0},\"id\":\"1055\",\"type\":\"AdaptiveTicker\"},{\"attributes\":{},\"id\":\"1028\",\"type\":\"ZoomInTool\"},{\"attributes\":{\"days\":[1,2,3,4,5,6,7,8,9,10,11,12,13,14,15,16,17,18,19,20,21,22,23,24,25,26,27,28,29,30,31]},\"id\":\"1056\",\"type\":\"DaysTicker\"},{\"attributes\":{},\"id\":\"1013\",\"type\":\"LinearScale\"},{\"attributes\":{\"callback\":null,\"tooltips\":[[\"FinalObjectiveValue\",\"@FinalObjectiveValue\"],[\"TrainingJobName\",\"@TrainingJobName\"],[\"buckets\",\"@{buckets}\"],[\"epochs\",\"@{epochs}\"],[\"min_count\",\"@{min_count}\"],[\"vector_dim\",\"@{vector_dim}\"],[\"word_ngrams\",\"@{word_ngrams}\"],[\"learning_rate\",\"@{learning_rate}\"]]},\"id\":\"1005\",\"type\":\"HoverTool\"},{\"attributes\":{},\"id\":\"1029\",\"type\":\"ZoomOutTool\"},{\"attributes\":{\"days\":[1,4,7,10,13,16,19,22,25,28]},\"id\":\"1057\",\"type\":\"DaysTicker\"},{\"attributes\":{\"plot\":null,\"text\":\"\"},\"id\":\"1047\",\"type\":\"Title\"},{\"attributes\":{},\"id\":\"1030\",\"type\":\"UndoTool\"},{\"attributes\":{\"dimension\":1,\"plot\":{\"id\":\"1006\",\"subtype\":\"Figure\",\"type\":\"Plot\"},\"ticker\":{\"id\":\"1021\",\"type\":\"BasicTicker\"}},\"id\":\"1024\",\"type\":\"Grid\"},{\"attributes\":{\"num_minor_ticks\":5,\"tickers\":[{\"id\":\"1053\",\"type\":\"AdaptiveTicker\"},{\"id\":\"1054\",\"type\":\"AdaptiveTicker\"},{\"id\":\"1055\",\"type\":\"AdaptiveTicker\"},{\"id\":\"1056\",\"type\":\"DaysTicker\"},{\"id\":\"1057\",\"type\":\"DaysTicker\"},{\"id\":\"1058\",\"type\":\"DaysTicker\"},{\"id\":\"1059\",\"type\":\"DaysTicker\"},{\"id\":\"1060\",\"type\":\"MonthsTicker\"},{\"id\":\"1061\",\"type\":\"MonthsTicker\"},{\"id\":\"1062\",\"type\":\"MonthsTicker\"},{\"id\":\"1063\",\"type\":\"MonthsTicker\"},{\"id\":\"1064\",\"type\":\"YearsTicker\"}]},\"id\":\"1016\",\"type\":\"DatetimeTicker\"}],\"root_ids\":[\"1006\"]},\"title\":\"Bokeh Application\",\"version\":\"1.0.4\"}};\n",
       "  var render_items = [{\"docid\":\"67fa2e58-b75d-4bc4-a73d-97d08d4a90b5\",\"roots\":{\"1006\":\"4bb4d859-836f-48d2-897c-89d0f6775b06\"}}];\n",
       "  root.Bokeh.embed.embed_items_notebook(docs_json, render_items);\n",
       "\n",
       "  }\n",
       "  if (root.Bokeh !== undefined) {\n",
       "    embed_document(root);\n",
       "  } else {\n",
       "    var attempts = 0;\n",
       "    var timer = setInterval(function(root) {\n",
       "      if (root.Bokeh !== undefined) {\n",
       "        embed_document(root);\n",
       "        clearInterval(timer);\n",
       "      }\n",
       "      attempts++;\n",
       "      if (attempts > 100) {\n",
       "        console.log(\"Bokeh: ERROR: Unable to run BokehJS code because BokehJS library is missing\");\n",
       "        clearInterval(timer);\n",
       "      }\n",
       "    }, 10, root)\n",
       "  }\n",
       "})(window);"
      ],
      "application/vnd.bokehjs_exec.v0+json": ""
     },
     "metadata": {
      "application/vnd.bokehjs_exec.v0+json": {
       "id": "1006"
      }
     },
     "output_type": "display_data"
    }
   ],
   "source": [
    "import bokeh\n",
    "import bokeh.io\n",
    "bokeh.io.output_notebook()\n",
    "from bokeh.plotting import figure, show\n",
    "from bokeh.models import HoverTool\n",
    "\n",
    "class HoverHelper():\n",
    "\n",
    "    def __init__(self, tuning_analytics):\n",
    "        self.tuner = tuning_analytics\n",
    "\n",
    "    def hovertool(self):\n",
    "        tooltips = [\n",
    "            (\"FinalObjectiveValue\", \"@FinalObjectiveValue\"),\n",
    "            (\"TrainingJobName\", \"@TrainingJobName\"),\n",
    "        ]\n",
    "        for k in self.tuner.tuning_ranges.keys():\n",
    "            tooltips.append( (k, \"@{%s}\" % k) )\n",
    "\n",
    "        ht = HoverTool(tooltips=tooltips)\n",
    "        return ht\n",
    "\n",
    "    def tools(self, standard_tools='pan,crosshair,wheel_zoom,zoom_in,zoom_out,undo,reset'):\n",
    "        return [self.hovertool(), standard_tools]\n",
    "\n",
    "hover = HoverHelper(tuner)\n",
    "\n",
    "p = figure(plot_width=900, plot_height=400, tools=hover.tools(), x_axis_type='datetime')\n",
    "p.circle(source=df, x='TrainingStartTime', y='FinalObjectiveValue')\n",
    "show(p)"
   ]
  },
  {
   "cell_type": "markdown",
   "metadata": {},
   "source": [
    "# Analyze the correlation between objective metric and individual hyperparameters¶\n",
    "\n",
    "Now you have finished a tuning job, you may want to know the correlation between your objective metric and individual hyperparameters you've selected to tune. Having that insight will help you decide whether it makes sense to adjust search ranges for certain hyperparameters and start another tuning job. For exmaple, if you see a positive trend between objective metric and a numerical hyperparameter, you probably want to set a higher tuning range for that hyperparameter in your next tuning job.\n",
    "\n",
    "The following cell draws a graph for each hyperparameter to show its correlation with your objective metric.\n"
   ]
  },
  {
   "cell_type": "code",
   "execution_count": 71,
   "metadata": {},
   "outputs": [
    {
     "data": {
      "text/html": [
       "\n",
       "\n",
       "\n",
       "\n",
       "\n",
       "\n",
       "  <div class=\"bk-root\" id=\"03a4e7a8-3a56-4eef-8414-0ae4321e5eb8\" data-root-id=\"1654\"></div>\n"
      ]
     },
     "metadata": {},
     "output_type": "display_data"
    },
    {
     "data": {
      "application/javascript": [
       "(function(root) {\n",
       "  function embed_document(root) {\n",
       "    \n",
       "  var docs_json = {\"d8b258c2-2536-4c7e-b3ec-424659cf00ae\":{\"roots\":{\"references\":[{\"attributes\":{\"children\":[{\"id\":\"1392\",\"subtype\":\"Figure\",\"type\":\"Plot\"},{\"id\":\"1436\",\"subtype\":\"Figure\",\"type\":\"Plot\"},{\"id\":\"1480\",\"subtype\":\"Figure\",\"type\":\"Plot\"},{\"id\":\"1524\",\"subtype\":\"Figure\",\"type\":\"Plot\"},{\"id\":\"1568\",\"subtype\":\"Figure\",\"type\":\"Plot\"},{\"id\":\"1612\",\"subtype\":\"Figure\",\"type\":\"Plot\"}]},\"id\":\"1654\",\"type\":\"Column\"},{\"attributes\":{\"data_source\":{\"id\":\"1648\",\"type\":\"ColumnDataSource\"},\"glyph\":{\"id\":\"1650\",\"type\":\"Circle\"},\"hover_glyph\":null,\"muted_glyph\":null,\"nonselection_glyph\":{\"id\":\"1651\",\"type\":\"Circle\"},\"selection_glyph\":null,\"view\":{\"id\":\"1653\",\"type\":\"CDSView\"}},\"id\":\"1652\",\"type\":\"GlyphRenderer\"},{\"attributes\":{\"axis_label\":\"validation:accuracy\",\"formatter\":{\"id\":\"1716\",\"type\":\"BasicTickFormatter\"},\"plot\":{\"id\":\"1524\",\"subtype\":\"Figure\",\"type\":\"Plot\"},\"ticker\":{\"id\":\"1540\",\"type\":\"BasicTicker\"}},\"id\":\"1539\",\"type\":\"LinearAxis\"},{\"attributes\":{\"source\":{\"id\":\"1648\",\"type\":\"ColumnDataSource\"}},\"id\":\"1653\",\"type\":\"CDSView\"},{\"attributes\":{},\"id\":\"1540\",\"type\":\"BasicTicker\"},{\"attributes\":{\"dimension\":1,\"plot\":{\"id\":\"1524\",\"subtype\":\"Figure\",\"type\":\"Plot\"},\"ticker\":{\"id\":\"1540\",\"type\":\"BasicTicker\"}},\"id\":\"1543\",\"type\":\"Grid\"},{\"attributes\":{},\"id\":\"1702\",\"type\":\"BasicTickFormatter\"},{\"attributes\":{\"below\":[{\"id\":\"1578\",\"type\":\"LinearAxis\"}],\"left\":[{\"id\":\"1583\",\"type\":\"LinearAxis\"}],\"plot_height\":500,\"plot_width\":500,\"renderers\":[{\"id\":\"1578\",\"type\":\"LinearAxis\"},{\"id\":\"1582\",\"type\":\"Grid\"},{\"id\":\"1583\",\"type\":\"LinearAxis\"},{\"id\":\"1587\",\"type\":\"Grid\"},{\"id\":\"1608\",\"type\":\"GlyphRenderer\"}],\"title\":{\"id\":\"1567\",\"type\":\"Title\"},\"toolbar\":{\"id\":\"1595\",\"type\":\"Toolbar\"},\"x_range\":{\"id\":\"1570\",\"type\":\"DataRange1d\"},\"x_scale\":{\"id\":\"1574\",\"type\":\"LinearScale\"},\"y_range\":{\"id\":\"1572\",\"type\":\"DataRange1d\"},\"y_scale\":{\"id\":\"1576\",\"type\":\"LinearScale\"}},\"id\":\"1568\",\"subtype\":\"Figure\",\"type\":\"Plot\"},{\"attributes\":{},\"id\":\"1704\",\"type\":\"BasicTickFormatter\"},{\"attributes\":{\"fill_color\":{\"value\":\"#1f77b4\"},\"line_color\":{\"value\":\"#1f77b4\"},\"x\":{\"field\":\"word_ngrams\"},\"y\":{\"field\":\"FinalObjectiveValue\"}},\"id\":\"1606\",\"type\":\"Circle\"},{\"attributes\":{},\"id\":\"1706\",\"type\":\"BasicTickFormatter\"},{\"attributes\":{\"active_drag\":\"auto\",\"active_inspect\":\"auto\",\"active_multi\":null,\"active_scroll\":\"auto\",\"active_tap\":\"auto\",\"tools\":[{\"id\":\"1522\",\"type\":\"HoverTool\"},{\"id\":\"1544\",\"type\":\"PanTool\"},{\"id\":\"1545\",\"type\":\"CrosshairTool\"},{\"id\":\"1546\",\"type\":\"WheelZoomTool\"},{\"id\":\"1547\",\"type\":\"ZoomInTool\"},{\"id\":\"1548\",\"type\":\"ZoomOutTool\"},{\"id\":\"1549\",\"type\":\"UndoTool\"},{\"id\":\"1550\",\"type\":\"ResetTool\"}]},\"id\":\"1551\",\"type\":\"Toolbar\"},{\"attributes\":{},\"id\":\"1708\",\"type\":\"BasicTickFormatter\"},{\"attributes\":{},\"id\":\"1544\",\"type\":\"PanTool\"},{\"attributes\":{},\"id\":\"1710\",\"type\":\"BasicTickFormatter\"},{\"attributes\":{},\"id\":\"1545\",\"type\":\"CrosshairTool\"},{\"attributes\":{},\"id\":\"1712\",\"type\":\"BasicTickFormatter\"},{\"attributes\":{},\"id\":\"1546\",\"type\":\"WheelZoomTool\"},{\"attributes\":{},\"id\":\"1714\",\"type\":\"BasicTickFormatter\"},{\"attributes\":{},\"id\":\"1547\",\"type\":\"ZoomInTool\"},{\"attributes\":{},\"id\":\"1548\",\"type\":\"ZoomOutTool\"},{\"attributes\":{},\"id\":\"1724\",\"type\":\"BasicTickFormatter\"},{\"attributes\":{},\"id\":\"1549\",\"type\":\"UndoTool\"},{\"attributes\":{},\"id\":\"1725\",\"type\":\"UnionRenderers\"},{\"attributes\":{},\"id\":\"1550\",\"type\":\"ResetTool\"},{\"attributes\":{},\"id\":\"1726\",\"type\":\"Selection\"},{\"attributes\":{},\"id\":\"1727\",\"type\":\"UnionRenderers\"},{\"attributes\":{\"source\":{\"id\":\"1560\",\"type\":\"ColumnDataSource\"}},\"id\":\"1565\",\"type\":\"CDSView\"},{\"attributes\":{\"fill_alpha\":{\"value\":0.1},\"fill_color\":{\"value\":\"#1f77b4\"},\"line_alpha\":{\"value\":0.1},\"line_color\":{\"value\":\"#1f77b4\"},\"x\":{\"field\":\"word_ngrams\"},\"y\":{\"field\":\"FinalObjectiveValue\"}},\"id\":\"1607\",\"type\":\"Circle\"},{\"attributes\":{},\"id\":\"1728\",\"type\":\"Selection\"},{\"attributes\":{},\"id\":\"1729\",\"type\":\"UnionRenderers\"},{\"attributes\":{},\"id\":\"1730\",\"type\":\"Selection\"},{\"attributes\":{},\"id\":\"1731\",\"type\":\"UnionRenderers\"},{\"attributes\":{\"plot\":null,\"text\":\"Objective vs word_ngrams\"},\"id\":\"1567\",\"type\":\"Title\"},{\"attributes\":{},\"id\":\"1732\",\"type\":\"Selection\"},{\"attributes\":{\"callback\":null,\"tooltips\":[[\"FinalObjectiveValue\",\"@FinalObjectiveValue\"],[\"TrainingJobName\",\"@TrainingJobName\"],[\"buckets\",\"@{buckets}\"],[\"epochs\",\"@{epochs}\"],[\"min_count\",\"@{min_count}\"],[\"vector_dim\",\"@{vector_dim}\"],[\"word_ngrams\",\"@{word_ngrams}\"],[\"learning_rate\",\"@{learning_rate}\"]]},\"id\":\"1566\",\"type\":\"HoverTool\"},{\"attributes\":{},\"id\":\"1733\",\"type\":\"UnionRenderers\"},{\"attributes\":{},\"id\":\"1734\",\"type\":\"Selection\"},{\"attributes\":{\"data_source\":{\"id\":\"1560\",\"type\":\"ColumnDataSource\"},\"glyph\":{\"id\":\"1562\",\"type\":\"Circle\"},\"hover_glyph\":null,\"muted_glyph\":null,\"nonselection_glyph\":{\"id\":\"1563\",\"type\":\"Circle\"},\"selection_glyph\":null,\"view\":{\"id\":\"1565\",\"type\":\"CDSView\"}},\"id\":\"1564\",\"type\":\"GlyphRenderer\"},{\"attributes\":{},\"id\":\"1735\",\"type\":\"UnionRenderers\"},{\"attributes\":{\"fill_alpha\":{\"value\":0.1},\"fill_color\":{\"value\":\"#1f77b4\"},\"line_alpha\":{\"value\":0.1},\"line_color\":{\"value\":\"#1f77b4\"},\"x\":{\"field\":\"vector_dim\"},\"y\":{\"field\":\"FinalObjectiveValue\"}},\"id\":\"1563\",\"type\":\"Circle\"},{\"attributes\":{},\"id\":\"1736\",\"type\":\"Selection\"},{\"attributes\":{\"fill_alpha\":{\"value\":0.1},\"fill_color\":{\"value\":\"#1f77b4\"},\"line_alpha\":{\"value\":0.1},\"line_color\":{\"value\":\"#1f77b4\"},\"x\":{\"field\":\"epochs\"},\"y\":{\"field\":\"FinalObjectiveValue\"}},\"id\":\"1475\",\"type\":\"Circle\"},{\"attributes\":{\"fill_color\":{\"value\":\"#1f77b4\"},\"line_color\":{\"value\":\"#1f77b4\"},\"x\":{\"field\":\"vector_dim\"},\"y\":{\"field\":\"FinalObjectiveValue\"}},\"id\":\"1562\",\"type\":\"Circle\"},{\"attributes\":{\"callback\":null},\"id\":\"1570\",\"type\":\"DataRange1d\"},{\"attributes\":{\"callback\":null},\"id\":\"1572\",\"type\":\"DataRange1d\"},{\"attributes\":{},\"id\":\"1574\",\"type\":\"LinearScale\"},{\"attributes\":{},\"id\":\"1576\",\"type\":\"LinearScale\"},{\"attributes\":{\"axis_label\":\"word_ngrams\",\"formatter\":{\"id\":\"1718\",\"type\":\"BasicTickFormatter\"},\"plot\":{\"id\":\"1568\",\"subtype\":\"Figure\",\"type\":\"Plot\"},\"ticker\":{\"id\":\"1579\",\"type\":\"BasicTicker\"}},\"id\":\"1578\",\"type\":\"LinearAxis\"},{\"attributes\":{},\"id\":\"1579\",\"type\":\"BasicTicker\"},{\"attributes\":{\"plot\":{\"id\":\"1568\",\"subtype\":\"Figure\",\"type\":\"Plot\"},\"ticker\":{\"id\":\"1579\",\"type\":\"BasicTicker\"}},\"id\":\"1582\",\"type\":\"Grid\"},{\"attributes\":{\"axis_label\":\"validation:accuracy\",\"formatter\":{\"id\":\"1720\",\"type\":\"BasicTickFormatter\"},\"plot\":{\"id\":\"1568\",\"subtype\":\"Figure\",\"type\":\"Plot\"},\"ticker\":{\"id\":\"1584\",\"type\":\"BasicTicker\"}},\"id\":\"1583\",\"type\":\"LinearAxis\"},{\"attributes\":{},\"id\":\"1584\",\"type\":\"BasicTicker\"},{\"attributes\":{\"dimension\":1,\"plot\":{\"id\":\"1568\",\"subtype\":\"Figure\",\"type\":\"Plot\"},\"ticker\":{\"id\":\"1584\",\"type\":\"BasicTicker\"}},\"id\":\"1587\",\"type\":\"Grid\"},{\"attributes\":{\"data_source\":{\"id\":\"1604\",\"type\":\"ColumnDataSource\"},\"glyph\":{\"id\":\"1606\",\"type\":\"Circle\"},\"hover_glyph\":null,\"muted_glyph\":null,\"nonselection_glyph\":{\"id\":\"1607\",\"type\":\"Circle\"},\"selection_glyph\":null,\"view\":{\"id\":\"1609\",\"type\":\"CDSView\"}},\"id\":\"1608\",\"type\":\"GlyphRenderer\"},{\"attributes\":{\"plot\":{\"id\":\"1524\",\"subtype\":\"Figure\",\"type\":\"Plot\"},\"ticker\":{\"id\":\"1535\",\"type\":\"BasicTicker\"}},\"id\":\"1538\",\"type\":\"Grid\"},{\"attributes\":{\"callback\":null,\"data\":{\"FinalObjectiveValue\":{\"__ndarray__\":\"AAAAACuH7j8AAACgy3/uPwAAAGBWfe4/AAAAYCJs7j8AAAAgwFvuPwAAACCDwOw/AAAAIMKG6z8AAACAHTjjPwAAAGAKnbc/\",\"dtype\":\"float64\",\"shape\":[9]},\"TrainingElapsedTimeSeconds\":{\"__ndarray__\":\"AAAAAACATUAAAAAAAABIQAAAAAAAAEhAAAAAAAAATEAAAAAAAIBGQAAAAAAAgEpAAAAAAADAZEAAAAAAABB/QAAAAAAA4G5A\",\"dtype\":\"float64\",\"shape\":[9]},\"TrainingEndTime\":{\"__ndarray__\":\"AAAoJQ7AdkIAAONuDsB2QgAAFFIOwHZCAICZ3g3AdkIAgFdmDsB2QgCAOIAOwHZCAABI9g3AdkIAgB1GDsB2QgAAFT0OwHZC\",\"dtype\":\"float64\",\"shape\":[9]},\"TrainingJobName\":[\"hyper-tuning-005-023243d8\",\"hyper-tuning-008-b52edcfb\",\"hyper-tuning-006-9f10a443\",\"hyper-tuning-003-05e09124\",\"hyper-tuning-007-05a5d708\",\"hyper-tuning-009-1306d7f2\",\"hyper-tuning-001-8171ae96\",\"hyper-tuning-002-46b62ac7\",\"hyper-tuning-004-a2a688fe\"],\"TrainingJobStatus\":[\"Completed\",\"Completed\",\"Completed\",\"Completed\",\"Completed\",\"Completed\",\"Completed\",\"Completed\",\"Completed\"],\"TrainingStartTime\":{\"__ndarray__\":\"AIDAFg7AdkIAACtjDsB2QgAAXEYOwHZCAIDt0A3AdkIAAFtbDsB2QgAASHMOwHZCAADBzQ3AdkIAAMfMDcB2QgCAxwAOwHZC\",\"dtype\":\"float64\",\"shape\":[9]},\"buckets\":{\"__ndarray__\":\"AAAAADaNNUEAAADAlntiQQAAAMCWe2JBAAAAAM6hRkEAAABACcVdQQAAAADWI0lBAAAAAPb6T0EAAABAGo1TQQAAAADEyDVB\",\"dtype\":\"float64\",\"shape\":[9]},\"epochs\":{\"__ndarray__\":\"AAAAAAAALEAAAAAAAAAqQAAAAAAAACpAAAAAAAAAKkAAAAAAAAAkQAAAAAAAACBAAAAAAAAAJEAAAAAAAAAmQAAAAAAAABhA\",\"dtype\":\"float64\",\"shape\":[9]},\"index\":[7,4,6,9,5,3,11,10,8],\"learning_rate\":{\"__ndarray__\":\"lYVCEXR0gT+A1/ov+WGBP4DX+i/5YYE/5wdm0mFdgD9EzSOMiByDP62cyip5/ns/j3Mu0q0hgD/tnKdPKFB6PxLDNCbP6XQ/\",\"dtype\":\"float64\",\"shape\":[9]},\"min_count\":{\"__ndarray__\":\"AAAAAAAAMUAAAAAAAABCQAAAAAAAAEJAAAAAAAAAQ0AAAAAAAMBRQAAAAAAAgFFAAAAAAACASkAAAAAAAAAIQAAAAAAAAAhA\",\"dtype\":\"float64\",\"shape\":[9]},\"vector_dim\":{\"__ndarray__\":\"AAAAAACAXEAAAAAAAMBQQAAAAAAAQFJAAAAAAABAVUAAAAAAAABCQAAAAAAAwG1AAAAAAACATUAAAAAAAIBlQAAAAAAAwHFA\",\"dtype\":\"float64\",\"shape\":[9]},\"word_ngrams\":{\"__ndarray__\":\"AAAAAAAA8D8AAAAAAADwPwAAAAAAAPA/AAAAAAAA8D8AAAAAAADwPwAAAAAAAPA/AAAAAAAAAEAAAAAAAAAIQAAAAAAAAAhA\",\"dtype\":\"float64\",\"shape\":[9]}},\"selected\":{\"id\":\"1734\",\"type\":\"Selection\"},\"selection_policy\":{\"id\":\"1733\",\"type\":\"UnionRenderers\"}},\"id\":\"1604\",\"type\":\"ColumnDataSource\"},{\"attributes\":{\"active_drag\":\"auto\",\"active_inspect\":\"auto\",\"active_multi\":null,\"active_scroll\":\"auto\",\"active_tap\":\"auto\",\"tools\":[{\"id\":\"1566\",\"type\":\"HoverTool\"},{\"id\":\"1588\",\"type\":\"PanTool\"},{\"id\":\"1589\",\"type\":\"CrosshairTool\"},{\"id\":\"1590\",\"type\":\"WheelZoomTool\"},{\"id\":\"1591\",\"type\":\"ZoomInTool\"},{\"id\":\"1592\",\"type\":\"ZoomOutTool\"},{\"id\":\"1593\",\"type\":\"UndoTool\"},{\"id\":\"1594\",\"type\":\"ResetTool\"}]},\"id\":\"1595\",\"type\":\"Toolbar\"},{\"attributes\":{},\"id\":\"1588\",\"type\":\"PanTool\"},{\"attributes\":{\"callback\":null},\"id\":\"1484\",\"type\":\"DataRange1d\"},{\"attributes\":{},\"id\":\"1417\",\"type\":\"UndoTool\"},{\"attributes\":{},\"id\":\"1589\",\"type\":\"CrosshairTool\"},{\"attributes\":{},\"id\":\"1486\",\"type\":\"LinearScale\"},{\"attributes\":{},\"id\":\"1418\",\"type\":\"ResetTool\"},{\"attributes\":{},\"id\":\"1590\",\"type\":\"WheelZoomTool\"},{\"attributes\":{},\"id\":\"1488\",\"type\":\"LinearScale\"},{\"attributes\":{\"active_drag\":\"auto\",\"active_inspect\":\"auto\",\"active_multi\":null,\"active_scroll\":\"auto\",\"active_tap\":\"auto\",\"tools\":[{\"id\":\"1390\",\"type\":\"HoverTool\"},{\"id\":\"1412\",\"type\":\"PanTool\"},{\"id\":\"1413\",\"type\":\"CrosshairTool\"},{\"id\":\"1414\",\"type\":\"WheelZoomTool\"},{\"id\":\"1415\",\"type\":\"ZoomInTool\"},{\"id\":\"1416\",\"type\":\"ZoomOutTool\"},{\"id\":\"1417\",\"type\":\"UndoTool\"},{\"id\":\"1418\",\"type\":\"ResetTool\"}]},\"id\":\"1419\",\"type\":\"Toolbar\"},{\"attributes\":{},\"id\":\"1591\",\"type\":\"ZoomInTool\"},{\"attributes\":{\"axis_label\":\"min_count\",\"formatter\":{\"id\":\"1710\",\"type\":\"BasicTickFormatter\"},\"plot\":{\"id\":\"1480\",\"subtype\":\"Figure\",\"type\":\"Plot\"},\"ticker\":{\"id\":\"1491\",\"type\":\"BasicTicker\"}},\"id\":\"1490\",\"type\":\"LinearAxis\"},{\"attributes\":{},\"id\":\"1720\",\"type\":\"BasicTickFormatter\"},{\"attributes\":{\"fill_color\":{\"value\":\"#1f77b4\"},\"line_color\":{\"value\":\"#1f77b4\"},\"x\":{\"field\":\"epochs\"},\"y\":{\"field\":\"FinalObjectiveValue\"}},\"id\":\"1474\",\"type\":\"Circle\"},{\"attributes\":{},\"id\":\"1592\",\"type\":\"ZoomOutTool\"},{\"attributes\":{},\"id\":\"1491\",\"type\":\"BasicTicker\"},{\"attributes\":{\"callback\":null,\"tooltips\":[[\"FinalObjectiveValue\",\"@FinalObjectiveValue\"],[\"TrainingJobName\",\"@TrainingJobName\"],[\"buckets\",\"@{buckets}\"],[\"epochs\",\"@{epochs}\"],[\"min_count\",\"@{min_count}\"],[\"vector_dim\",\"@{vector_dim}\"],[\"word_ngrams\",\"@{word_ngrams}\"],[\"learning_rate\",\"@{learning_rate}\"]]},\"id\":\"1390\",\"type\":\"HoverTool\"},{\"attributes\":{},\"id\":\"1593\",\"type\":\"UndoTool\"},{\"attributes\":{\"plot\":null,\"text\":\"Objective vs min_count\"},\"id\":\"1479\",\"type\":\"Title\"},{\"attributes\":{\"plot\":{\"id\":\"1480\",\"subtype\":\"Figure\",\"type\":\"Plot\"},\"ticker\":{\"id\":\"1491\",\"type\":\"BasicTicker\"}},\"id\":\"1494\",\"type\":\"Grid\"},{\"attributes\":{\"fill_color\":{\"value\":\"#1f77b4\"},\"line_color\":{\"value\":\"#1f77b4\"},\"x\":{\"field\":\"buckets\"},\"y\":{\"field\":\"FinalObjectiveValue\"}},\"id\":\"1430\",\"type\":\"Circle\"},{\"attributes\":{},\"id\":\"1594\",\"type\":\"ResetTool\"},{\"attributes\":{\"callback\":null},\"id\":\"1482\",\"type\":\"DataRange1d\"},{\"attributes\":{\"axis_label\":\"validation:accuracy\",\"formatter\":{\"id\":\"1712\",\"type\":\"BasicTickFormatter\"},\"plot\":{\"id\":\"1480\",\"subtype\":\"Figure\",\"type\":\"Plot\"},\"ticker\":{\"id\":\"1496\",\"type\":\"BasicTicker\"}},\"id\":\"1495\",\"type\":\"LinearAxis\"},{\"attributes\":{\"plot\":null,\"text\":\"Objective vs buckets\"},\"id\":\"1391\",\"type\":\"Title\"},{\"attributes\":{\"plot\":null,\"text\":\"Objective vs epochs\"},\"id\":\"1435\",\"type\":\"Title\"},{\"attributes\":{},\"id\":\"1496\",\"type\":\"BasicTicker\"},{\"attributes\":{\"below\":[{\"id\":\"1446\",\"type\":\"LinearAxis\"}],\"left\":[{\"id\":\"1451\",\"type\":\"LinearAxis\"}],\"plot_height\":500,\"plot_width\":500,\"renderers\":[{\"id\":\"1446\",\"type\":\"LinearAxis\"},{\"id\":\"1450\",\"type\":\"Grid\"},{\"id\":\"1451\",\"type\":\"LinearAxis\"},{\"id\":\"1455\",\"type\":\"Grid\"},{\"id\":\"1476\",\"type\":\"GlyphRenderer\"}],\"title\":{\"id\":\"1435\",\"type\":\"Title\"},\"toolbar\":{\"id\":\"1463\",\"type\":\"Toolbar\"},\"x_range\":{\"id\":\"1438\",\"type\":\"DataRange1d\"},\"x_scale\":{\"id\":\"1442\",\"type\":\"LinearScale\"},\"y_range\":{\"id\":\"1440\",\"type\":\"DataRange1d\"},\"y_scale\":{\"id\":\"1444\",\"type\":\"LinearScale\"}},\"id\":\"1436\",\"subtype\":\"Figure\",\"type\":\"Plot\"},{\"attributes\":{\"plot\":null,\"text\":\"Objective vs learning_rate\"},\"id\":\"1611\",\"type\":\"Title\"},{\"attributes\":{\"dimension\":1,\"plot\":{\"id\":\"1480\",\"subtype\":\"Figure\",\"type\":\"Plot\"},\"ticker\":{\"id\":\"1496\",\"type\":\"BasicTicker\"}},\"id\":\"1499\",\"type\":\"Grid\"},{\"attributes\":{\"callback\":null,\"tooltips\":[[\"FinalObjectiveValue\",\"@FinalObjectiveValue\"],[\"TrainingJobName\",\"@TrainingJobName\"],[\"buckets\",\"@{buckets}\"],[\"epochs\",\"@{epochs}\"],[\"min_count\",\"@{min_count}\"],[\"vector_dim\",\"@{vector_dim}\"],[\"word_ngrams\",\"@{word_ngrams}\"],[\"learning_rate\",\"@{learning_rate}\"]]},\"id\":\"1434\",\"type\":\"HoverTool\"},{\"attributes\":{\"fill_color\":{\"value\":\"#1f77b4\"},\"line_color\":{\"value\":\"#1f77b4\"},\"x\":{\"field\":\"learning_rate\"},\"y\":{\"field\":\"FinalObjectiveValue\"}},\"id\":\"1650\",\"type\":\"Circle\"},{\"attributes\":{\"below\":[{\"id\":\"1622\",\"type\":\"LinearAxis\"}],\"left\":[{\"id\":\"1627\",\"type\":\"LinearAxis\"}],\"plot_height\":500,\"plot_width\":500,\"renderers\":[{\"id\":\"1622\",\"type\":\"LinearAxis\"},{\"id\":\"1626\",\"type\":\"Grid\"},{\"id\":\"1627\",\"type\":\"LinearAxis\"},{\"id\":\"1631\",\"type\":\"Grid\"},{\"id\":\"1652\",\"type\":\"GlyphRenderer\"}],\"title\":{\"id\":\"1611\",\"type\":\"Title\"},\"toolbar\":{\"id\":\"1639\",\"type\":\"Toolbar\"},\"x_range\":{\"id\":\"1614\",\"type\":\"DataRange1d\"},\"x_scale\":{\"id\":\"1618\",\"type\":\"LinearScale\"},\"y_range\":{\"id\":\"1616\",\"type\":\"DataRange1d\"},\"y_scale\":{\"id\":\"1620\",\"type\":\"LinearScale\"}},\"id\":\"1612\",\"subtype\":\"Figure\",\"type\":\"Plot\"},{\"attributes\":{},\"id\":\"1413\",\"type\":\"CrosshairTool\"},{\"attributes\":{\"below\":[{\"id\":\"1534\",\"type\":\"LinearAxis\"}],\"left\":[{\"id\":\"1539\",\"type\":\"LinearAxis\"}],\"plot_height\":500,\"plot_width\":500,\"renderers\":[{\"id\":\"1534\",\"type\":\"LinearAxis\"},{\"id\":\"1538\",\"type\":\"Grid\"},{\"id\":\"1539\",\"type\":\"LinearAxis\"},{\"id\":\"1543\",\"type\":\"Grid\"},{\"id\":\"1564\",\"type\":\"GlyphRenderer\"}],\"title\":{\"id\":\"1523\",\"type\":\"Title\"},\"toolbar\":{\"id\":\"1551\",\"type\":\"Toolbar\"},\"x_range\":{\"id\":\"1526\",\"type\":\"DataRange1d\"},\"x_scale\":{\"id\":\"1530\",\"type\":\"LinearScale\"},\"y_range\":{\"id\":\"1528\",\"type\":\"DataRange1d\"},\"y_scale\":{\"id\":\"1532\",\"type\":\"LinearScale\"}},\"id\":\"1524\",\"subtype\":\"Figure\",\"type\":\"Plot\"},{\"attributes\":{\"callback\":null,\"tooltips\":[[\"FinalObjectiveValue\",\"@FinalObjectiveValue\"],[\"TrainingJobName\",\"@TrainingJobName\"],[\"buckets\",\"@{buckets}\"],[\"epochs\",\"@{epochs}\"],[\"min_count\",\"@{min_count}\"],[\"vector_dim\",\"@{vector_dim}\"],[\"word_ngrams\",\"@{word_ngrams}\"],[\"learning_rate\",\"@{learning_rate}\"]]},\"id\":\"1610\",\"type\":\"HoverTool\"},{\"attributes\":{\"source\":{\"id\":\"1428\",\"type\":\"ColumnDataSource\"}},\"id\":\"1433\",\"type\":\"CDSView\"},{\"attributes\":{\"callback\":null,\"data\":{\"FinalObjectiveValue\":{\"__ndarray__\":\"AAAAACuH7j8AAACgy3/uPwAAAGBWfe4/AAAAYCJs7j8AAAAgwFvuPwAAACCDwOw/AAAAIMKG6z8AAACAHTjjPwAAAGAKnbc/\",\"dtype\":\"float64\",\"shape\":[9]},\"TrainingElapsedTimeSeconds\":{\"__ndarray__\":\"AAAAAACATUAAAAAAAABIQAAAAAAAAEhAAAAAAAAATEAAAAAAAIBGQAAAAAAAgEpAAAAAAADAZEAAAAAAABB/QAAAAAAA4G5A\",\"dtype\":\"float64\",\"shape\":[9]},\"TrainingEndTime\":{\"__ndarray__\":\"AAAoJQ7AdkIAAONuDsB2QgAAFFIOwHZCAICZ3g3AdkIAgFdmDsB2QgCAOIAOwHZCAABI9g3AdkIAgB1GDsB2QgAAFT0OwHZC\",\"dtype\":\"float64\",\"shape\":[9]},\"TrainingJobName\":[\"hyper-tuning-005-023243d8\",\"hyper-tuning-008-b52edcfb\",\"hyper-tuning-006-9f10a443\",\"hyper-tuning-003-05e09124\",\"hyper-tuning-007-05a5d708\",\"hyper-tuning-009-1306d7f2\",\"hyper-tuning-001-8171ae96\",\"hyper-tuning-002-46b62ac7\",\"hyper-tuning-004-a2a688fe\"],\"TrainingJobStatus\":[\"Completed\",\"Completed\",\"Completed\",\"Completed\",\"Completed\",\"Completed\",\"Completed\",\"Completed\",\"Completed\"],\"TrainingStartTime\":{\"__ndarray__\":\"AIDAFg7AdkIAACtjDsB2QgAAXEYOwHZCAIDt0A3AdkIAAFtbDsB2QgAASHMOwHZCAADBzQ3AdkIAAMfMDcB2QgCAxwAOwHZC\",\"dtype\":\"float64\",\"shape\":[9]},\"buckets\":{\"__ndarray__\":\"AAAAADaNNUEAAADAlntiQQAAAMCWe2JBAAAAAM6hRkEAAABACcVdQQAAAADWI0lBAAAAAPb6T0EAAABAGo1TQQAAAADEyDVB\",\"dtype\":\"float64\",\"shape\":[9]},\"epochs\":{\"__ndarray__\":\"AAAAAAAALEAAAAAAAAAqQAAAAAAAACpAAAAAAAAAKkAAAAAAAAAkQAAAAAAAACBAAAAAAAAAJEAAAAAAAAAmQAAAAAAAABhA\",\"dtype\":\"float64\",\"shape\":[9]},\"index\":[7,4,6,9,5,3,11,10,8],\"learning_rate\":{\"__ndarray__\":\"lYVCEXR0gT+A1/ov+WGBP4DX+i/5YYE/5wdm0mFdgD9EzSOMiByDP62cyip5/ns/j3Mu0q0hgD/tnKdPKFB6PxLDNCbP6XQ/\",\"dtype\":\"float64\",\"shape\":[9]},\"min_count\":{\"__ndarray__\":\"AAAAAAAAMUAAAAAAAABCQAAAAAAAAEJAAAAAAAAAQ0AAAAAAAMBRQAAAAAAAgFFAAAAAAACASkAAAAAAAAAIQAAAAAAAAAhA\",\"dtype\":\"float64\",\"shape\":[9]},\"vector_dim\":{\"__ndarray__\":\"AAAAAACAXEAAAAAAAMBQQAAAAAAAQFJAAAAAAABAVUAAAAAAAABCQAAAAAAAwG1AAAAAAACATUAAAAAAAIBlQAAAAAAAwHFA\",\"dtype\":\"float64\",\"shape\":[9]},\"word_ngrams\":{\"__ndarray__\":\"AAAAAAAA8D8AAAAAAADwPwAAAAAAAPA/AAAAAAAA8D8AAAAAAADwPwAAAAAAAPA/AAAAAAAAAEAAAAAAAAAIQAAAAAAAAAhA\",\"dtype\":\"float64\",\"shape\":[9]}},\"selected\":{\"id\":\"1726\",\"type\":\"Selection\"},\"selection_policy\":{\"id\":\"1725\",\"type\":\"UnionRenderers\"}},\"id\":\"1428\",\"type\":\"ColumnDataSource\"},{\"attributes\":{\"active_drag\":\"auto\",\"active_inspect\":\"auto\",\"active_multi\":null,\"active_scroll\":\"auto\",\"active_tap\":\"auto\",\"tools\":[{\"id\":\"1434\",\"type\":\"HoverTool\"},{\"id\":\"1456\",\"type\":\"PanTool\"},{\"id\":\"1457\",\"type\":\"CrosshairTool\"},{\"id\":\"1458\",\"type\":\"WheelZoomTool\"},{\"id\":\"1459\",\"type\":\"ZoomInTool\"},{\"id\":\"1460\",\"type\":\"ZoomOutTool\"},{\"id\":\"1461\",\"type\":\"UndoTool\"},{\"id\":\"1462\",\"type\":\"ResetTool\"}]},\"id\":\"1463\",\"type\":\"Toolbar\"},{\"attributes\":{\"below\":[{\"id\":\"1402\",\"type\":\"LinearAxis\"}],\"left\":[{\"id\":\"1407\",\"type\":\"LinearAxis\"}],\"plot_height\":500,\"plot_width\":500,\"renderers\":[{\"id\":\"1402\",\"type\":\"LinearAxis\"},{\"id\":\"1406\",\"type\":\"Grid\"},{\"id\":\"1407\",\"type\":\"LinearAxis\"},{\"id\":\"1411\",\"type\":\"Grid\"},{\"id\":\"1432\",\"type\":\"GlyphRenderer\"}],\"title\":{\"id\":\"1391\",\"type\":\"Title\"},\"toolbar\":{\"id\":\"1419\",\"type\":\"Toolbar\"},\"x_range\":{\"id\":\"1394\",\"type\":\"DataRange1d\"},\"x_scale\":{\"id\":\"1398\",\"type\":\"LinearScale\"},\"y_range\":{\"id\":\"1396\",\"type\":\"DataRange1d\"},\"y_scale\":{\"id\":\"1400\",\"type\":\"LinearScale\"}},\"id\":\"1392\",\"subtype\":\"Figure\",\"type\":\"Plot\"},{\"attributes\":{\"data_source\":{\"id\":\"1428\",\"type\":\"ColumnDataSource\"},\"glyph\":{\"id\":\"1430\",\"type\":\"Circle\"},\"hover_glyph\":null,\"muted_glyph\":null,\"nonselection_glyph\":{\"id\":\"1431\",\"type\":\"Circle\"},\"selection_glyph\":null,\"view\":{\"id\":\"1433\",\"type\":\"CDSView\"}},\"id\":\"1432\",\"type\":\"GlyphRenderer\"},{\"attributes\":{\"source\":{\"id\":\"1604\",\"type\":\"ColumnDataSource\"}},\"id\":\"1609\",\"type\":\"CDSView\"},{\"attributes\":{},\"id\":\"1722\",\"type\":\"BasicTickFormatter\"},{\"attributes\":{},\"id\":\"1412\",\"type\":\"PanTool\"},{\"attributes\":{\"callback\":null},\"id\":\"1438\",\"type\":\"DataRange1d\"},{\"attributes\":{\"active_drag\":\"auto\",\"active_inspect\":\"auto\",\"active_multi\":null,\"active_scroll\":\"auto\",\"active_tap\":\"auto\",\"tools\":[{\"id\":\"1478\",\"type\":\"HoverTool\"},{\"id\":\"1500\",\"type\":\"PanTool\"},{\"id\":\"1501\",\"type\":\"CrosshairTool\"},{\"id\":\"1502\",\"type\":\"WheelZoomTool\"},{\"id\":\"1503\",\"type\":\"ZoomInTool\"},{\"id\":\"1504\",\"type\":\"ZoomOutTool\"},{\"id\":\"1505\",\"type\":\"UndoTool\"},{\"id\":\"1506\",\"type\":\"ResetTool\"}]},\"id\":\"1507\",\"type\":\"Toolbar\"},{\"attributes\":{\"callback\":null},\"id\":\"1614\",\"type\":\"DataRange1d\"},{\"attributes\":{},\"id\":\"1500\",\"type\":\"PanTool\"},{\"attributes\":{\"callback\":null},\"id\":\"1440\",\"type\":\"DataRange1d\"},{\"attributes\":{\"callback\":null},\"id\":\"1616\",\"type\":\"DataRange1d\"},{\"attributes\":{},\"id\":\"1501\",\"type\":\"CrosshairTool\"},{\"attributes\":{},\"id\":\"1442\",\"type\":\"LinearScale\"},{\"attributes\":{},\"id\":\"1618\",\"type\":\"LinearScale\"},{\"attributes\":{},\"id\":\"1502\",\"type\":\"WheelZoomTool\"},{\"attributes\":{},\"id\":\"1444\",\"type\":\"LinearScale\"},{\"attributes\":{},\"id\":\"1620\",\"type\":\"LinearScale\"},{\"attributes\":{},\"id\":\"1503\",\"type\":\"ZoomInTool\"},{\"attributes\":{\"axis_label\":\"epochs\",\"formatter\":{\"id\":\"1706\",\"type\":\"BasicTickFormatter\"},\"plot\":{\"id\":\"1436\",\"subtype\":\"Figure\",\"type\":\"Plot\"},\"ticker\":{\"id\":\"1447\",\"type\":\"BasicTicker\"}},\"id\":\"1446\",\"type\":\"LinearAxis\"},{\"attributes\":{\"axis_label\":\"learning_rate\",\"formatter\":{\"id\":\"1722\",\"type\":\"BasicTickFormatter\"},\"plot\":{\"id\":\"1612\",\"subtype\":\"Figure\",\"type\":\"Plot\"},\"ticker\":{\"id\":\"1623\",\"type\":\"BasicTicker\"}},\"id\":\"1622\",\"type\":\"LinearAxis\"},{\"attributes\":{},\"id\":\"1504\",\"type\":\"ZoomOutTool\"},{\"attributes\":{},\"id\":\"1447\",\"type\":\"BasicTicker\"},{\"attributes\":{},\"id\":\"1623\",\"type\":\"BasicTicker\"},{\"attributes\":{},\"id\":\"1505\",\"type\":\"UndoTool\"},{\"attributes\":{\"plot\":{\"id\":\"1612\",\"subtype\":\"Figure\",\"type\":\"Plot\"},\"ticker\":{\"id\":\"1623\",\"type\":\"BasicTicker\"}},\"id\":\"1626\",\"type\":\"Grid\"},{\"attributes\":{\"plot\":{\"id\":\"1436\",\"subtype\":\"Figure\",\"type\":\"Plot\"},\"ticker\":{\"id\":\"1447\",\"type\":\"BasicTicker\"}},\"id\":\"1450\",\"type\":\"Grid\"},{\"attributes\":{},\"id\":\"1506\",\"type\":\"ResetTool\"},{\"attributes\":{\"axis_label\":\"validation:accuracy\",\"formatter\":{\"id\":\"1708\",\"type\":\"BasicTickFormatter\"},\"plot\":{\"id\":\"1436\",\"subtype\":\"Figure\",\"type\":\"Plot\"},\"ticker\":{\"id\":\"1452\",\"type\":\"BasicTicker\"}},\"id\":\"1451\",\"type\":\"LinearAxis\"},{\"attributes\":{\"axis_label\":\"validation:accuracy\",\"formatter\":{\"id\":\"1724\",\"type\":\"BasicTickFormatter\"},\"plot\":{\"id\":\"1612\",\"subtype\":\"Figure\",\"type\":\"Plot\"},\"ticker\":{\"id\":\"1628\",\"type\":\"BasicTicker\"}},\"id\":\"1627\",\"type\":\"LinearAxis\"},{\"attributes\":{},\"id\":\"1452\",\"type\":\"BasicTicker\"},{\"attributes\":{\"callback\":null,\"data\":{\"FinalObjectiveValue\":{\"__ndarray__\":\"AAAAACuH7j8AAACgy3/uPwAAAGBWfe4/AAAAYCJs7j8AAAAgwFvuPwAAACCDwOw/AAAAIMKG6z8AAACAHTjjPwAAAGAKnbc/\",\"dtype\":\"float64\",\"shape\":[9]},\"TrainingElapsedTimeSeconds\":{\"__ndarray__\":\"AAAAAACATUAAAAAAAABIQAAAAAAAAEhAAAAAAAAATEAAAAAAAIBGQAAAAAAAgEpAAAAAAADAZEAAAAAAABB/QAAAAAAA4G5A\",\"dtype\":\"float64\",\"shape\":[9]},\"TrainingEndTime\":{\"__ndarray__\":\"AAAoJQ7AdkIAAONuDsB2QgAAFFIOwHZCAICZ3g3AdkIAgFdmDsB2QgCAOIAOwHZCAABI9g3AdkIAgB1GDsB2QgAAFT0OwHZC\",\"dtype\":\"float64\",\"shape\":[9]},\"TrainingJobName\":[\"hyper-tuning-005-023243d8\",\"hyper-tuning-008-b52edcfb\",\"hyper-tuning-006-9f10a443\",\"hyper-tuning-003-05e09124\",\"hyper-tuning-007-05a5d708\",\"hyper-tuning-009-1306d7f2\",\"hyper-tuning-001-8171ae96\",\"hyper-tuning-002-46b62ac7\",\"hyper-tuning-004-a2a688fe\"],\"TrainingJobStatus\":[\"Completed\",\"Completed\",\"Completed\",\"Completed\",\"Completed\",\"Completed\",\"Completed\",\"Completed\",\"Completed\"],\"TrainingStartTime\":{\"__ndarray__\":\"AIDAFg7AdkIAACtjDsB2QgAAXEYOwHZCAIDt0A3AdkIAAFtbDsB2QgAASHMOwHZCAADBzQ3AdkIAAMfMDcB2QgCAxwAOwHZC\",\"dtype\":\"float64\",\"shape\":[9]},\"buckets\":{\"__ndarray__\":\"AAAAADaNNUEAAADAlntiQQAAAMCWe2JBAAAAAM6hRkEAAABACcVdQQAAAADWI0lBAAAAAPb6T0EAAABAGo1TQQAAAADEyDVB\",\"dtype\":\"float64\",\"shape\":[9]},\"epochs\":{\"__ndarray__\":\"AAAAAAAALEAAAAAAAAAqQAAAAAAAACpAAAAAAAAAKkAAAAAAAAAkQAAAAAAAACBAAAAAAAAAJEAAAAAAAAAmQAAAAAAAABhA\",\"dtype\":\"float64\",\"shape\":[9]},\"index\":[7,4,6,9,5,3,11,10,8],\"learning_rate\":{\"__ndarray__\":\"lYVCEXR0gT+A1/ov+WGBP4DX+i/5YYE/5wdm0mFdgD9EzSOMiByDP62cyip5/ns/j3Mu0q0hgD/tnKdPKFB6PxLDNCbP6XQ/\",\"dtype\":\"float64\",\"shape\":[9]},\"min_count\":{\"__ndarray__\":\"AAAAAAAAMUAAAAAAAABCQAAAAAAAAEJAAAAAAAAAQ0AAAAAAAMBRQAAAAAAAgFFAAAAAAACASkAAAAAAAAAIQAAAAAAAAAhA\",\"dtype\":\"float64\",\"shape\":[9]},\"vector_dim\":{\"__ndarray__\":\"AAAAAACAXEAAAAAAAMBQQAAAAAAAQFJAAAAAAABAVUAAAAAAAABCQAAAAAAAwG1AAAAAAACATUAAAAAAAIBlQAAAAAAAwHFA\",\"dtype\":\"float64\",\"shape\":[9]},\"word_ngrams\":{\"__ndarray__\":\"AAAAAAAA8D8AAAAAAADwPwAAAAAAAPA/AAAAAAAA8D8AAAAAAADwPwAAAAAAAPA/AAAAAAAAAEAAAAAAAAAIQAAAAAAAAAhA\",\"dtype\":\"float64\",\"shape\":[9]}},\"selected\":{\"id\":\"1728\",\"type\":\"Selection\"},\"selection_policy\":{\"id\":\"1727\",\"type\":\"UnionRenderers\"}},\"id\":\"1472\",\"type\":\"ColumnDataSource\"},{\"attributes\":{\"source\":{\"id\":\"1516\",\"type\":\"ColumnDataSource\"}},\"id\":\"1521\",\"type\":\"CDSView\"},{\"attributes\":{},\"id\":\"1628\",\"type\":\"BasicTicker\"},{\"attributes\":{\"dimension\":1,\"plot\":{\"id\":\"1436\",\"subtype\":\"Figure\",\"type\":\"Plot\"},\"ticker\":{\"id\":\"1452\",\"type\":\"BasicTicker\"}},\"id\":\"1455\",\"type\":\"Grid\"},{\"attributes\":{\"dimension\":1,\"plot\":{\"id\":\"1612\",\"subtype\":\"Figure\",\"type\":\"Plot\"},\"ticker\":{\"id\":\"1628\",\"type\":\"BasicTicker\"}},\"id\":\"1631\",\"type\":\"Grid\"},{\"attributes\":{\"fill_alpha\":{\"value\":0.1},\"fill_color\":{\"value\":\"#1f77b4\"},\"line_alpha\":{\"value\":0.1},\"line_color\":{\"value\":\"#1f77b4\"},\"x\":{\"field\":\"learning_rate\"},\"y\":{\"field\":\"FinalObjectiveValue\"}},\"id\":\"1651\",\"type\":\"Circle\"},{\"attributes\":{},\"id\":\"1718\",\"type\":\"BasicTickFormatter\"},{\"attributes\":{\"callback\":null},\"id\":\"1394\",\"type\":\"DataRange1d\"},{\"attributes\":{\"callback\":null,\"data\":{\"FinalObjectiveValue\":{\"__ndarray__\":\"AAAAACuH7j8AAACgy3/uPwAAAGBWfe4/AAAAYCJs7j8AAAAgwFvuPwAAACCDwOw/AAAAIMKG6z8AAACAHTjjPwAAAGAKnbc/\",\"dtype\":\"float64\",\"shape\":[9]},\"TrainingElapsedTimeSeconds\":{\"__ndarray__\":\"AAAAAACATUAAAAAAAABIQAAAAAAAAEhAAAAAAAAATEAAAAAAAIBGQAAAAAAAgEpAAAAAAADAZEAAAAAAABB/QAAAAAAA4G5A\",\"dtype\":\"float64\",\"shape\":[9]},\"TrainingEndTime\":{\"__ndarray__\":\"AAAoJQ7AdkIAAONuDsB2QgAAFFIOwHZCAICZ3g3AdkIAgFdmDsB2QgCAOIAOwHZCAABI9g3AdkIAgB1GDsB2QgAAFT0OwHZC\",\"dtype\":\"float64\",\"shape\":[9]},\"TrainingJobName\":[\"hyper-tuning-005-023243d8\",\"hyper-tuning-008-b52edcfb\",\"hyper-tuning-006-9f10a443\",\"hyper-tuning-003-05e09124\",\"hyper-tuning-007-05a5d708\",\"hyper-tuning-009-1306d7f2\",\"hyper-tuning-001-8171ae96\",\"hyper-tuning-002-46b62ac7\",\"hyper-tuning-004-a2a688fe\"],\"TrainingJobStatus\":[\"Completed\",\"Completed\",\"Completed\",\"Completed\",\"Completed\",\"Completed\",\"Completed\",\"Completed\",\"Completed\"],\"TrainingStartTime\":{\"__ndarray__\":\"AIDAFg7AdkIAACtjDsB2QgAAXEYOwHZCAIDt0A3AdkIAAFtbDsB2QgAASHMOwHZCAADBzQ3AdkIAAMfMDcB2QgCAxwAOwHZC\",\"dtype\":\"float64\",\"shape\":[9]},\"buckets\":{\"__ndarray__\":\"AAAAADaNNUEAAADAlntiQQAAAMCWe2JBAAAAAM6hRkEAAABACcVdQQAAAADWI0lBAAAAAPb6T0EAAABAGo1TQQAAAADEyDVB\",\"dtype\":\"float64\",\"shape\":[9]},\"epochs\":{\"__ndarray__\":\"AAAAAAAALEAAAAAAAAAqQAAAAAAAACpAAAAAAAAAKkAAAAAAAAAkQAAAAAAAACBAAAAAAAAAJEAAAAAAAAAmQAAAAAAAABhA\",\"dtype\":\"float64\",\"shape\":[9]},\"index\":[7,4,6,9,5,3,11,10,8],\"learning_rate\":{\"__ndarray__\":\"lYVCEXR0gT+A1/ov+WGBP4DX+i/5YYE/5wdm0mFdgD9EzSOMiByDP62cyip5/ns/j3Mu0q0hgD/tnKdPKFB6PxLDNCbP6XQ/\",\"dtype\":\"float64\",\"shape\":[9]},\"min_count\":{\"__ndarray__\":\"AAAAAAAAMUAAAAAAAABCQAAAAAAAAEJAAAAAAAAAQ0AAAAAAAMBRQAAAAAAAgFFAAAAAAACASkAAAAAAAAAIQAAAAAAAAAhA\",\"dtype\":\"float64\",\"shape\":[9]},\"vector_dim\":{\"__ndarray__\":\"AAAAAACAXEAAAAAAAMBQQAAAAAAAQFJAAAAAAABAVUAAAAAAAABCQAAAAAAAwG1AAAAAAACATUAAAAAAAIBlQAAAAAAAwHFA\",\"dtype\":\"float64\",\"shape\":[9]},\"word_ngrams\":{\"__ndarray__\":\"AAAAAAAA8D8AAAAAAADwPwAAAAAAAPA/AAAAAAAA8D8AAAAAAADwPwAAAAAAAPA/AAAAAAAAAEAAAAAAAAAIQAAAAAAAAAhA\",\"dtype\":\"float64\",\"shape\":[9]}},\"selected\":{\"id\":\"1736\",\"type\":\"Selection\"},\"selection_policy\":{\"id\":\"1735\",\"type\":\"UnionRenderers\"}},\"id\":\"1648\",\"type\":\"ColumnDataSource\"},{\"attributes\":{\"callback\":null},\"id\":\"1396\",\"type\":\"DataRange1d\"},{\"attributes\":{\"plot\":null,\"text\":\"Objective vs vector_dim\"},\"id\":\"1523\",\"type\":\"Title\"},{\"attributes\":{\"active_drag\":\"auto\",\"active_inspect\":\"auto\",\"active_multi\":null,\"active_scroll\":\"auto\",\"active_tap\":\"auto\",\"tools\":[{\"id\":\"1610\",\"type\":\"HoverTool\"},{\"id\":\"1632\",\"type\":\"PanTool\"},{\"id\":\"1633\",\"type\":\"CrosshairTool\"},{\"id\":\"1634\",\"type\":\"WheelZoomTool\"},{\"id\":\"1635\",\"type\":\"ZoomInTool\"},{\"id\":\"1636\",\"type\":\"ZoomOutTool\"},{\"id\":\"1637\",\"type\":\"UndoTool\"},{\"id\":\"1638\",\"type\":\"ResetTool\"}]},\"id\":\"1639\",\"type\":\"Toolbar\"},{\"attributes\":{},\"id\":\"1416\",\"type\":\"ZoomOutTool\"},{\"attributes\":{},\"id\":\"1456\",\"type\":\"PanTool\"},{\"attributes\":{\"callback\":null,\"data\":{\"FinalObjectiveValue\":{\"__ndarray__\":\"AAAAACuH7j8AAACgy3/uPwAAAGBWfe4/AAAAYCJs7j8AAAAgwFvuPwAAACCDwOw/AAAAIMKG6z8AAACAHTjjPwAAAGAKnbc/\",\"dtype\":\"float64\",\"shape\":[9]},\"TrainingElapsedTimeSeconds\":{\"__ndarray__\":\"AAAAAACATUAAAAAAAABIQAAAAAAAAEhAAAAAAAAATEAAAAAAAIBGQAAAAAAAgEpAAAAAAADAZEAAAAAAABB/QAAAAAAA4G5A\",\"dtype\":\"float64\",\"shape\":[9]},\"TrainingEndTime\":{\"__ndarray__\":\"AAAoJQ7AdkIAAONuDsB2QgAAFFIOwHZCAICZ3g3AdkIAgFdmDsB2QgCAOIAOwHZCAABI9g3AdkIAgB1GDsB2QgAAFT0OwHZC\",\"dtype\":\"float64\",\"shape\":[9]},\"TrainingJobName\":[\"hyper-tuning-005-023243d8\",\"hyper-tuning-008-b52edcfb\",\"hyper-tuning-006-9f10a443\",\"hyper-tuning-003-05e09124\",\"hyper-tuning-007-05a5d708\",\"hyper-tuning-009-1306d7f2\",\"hyper-tuning-001-8171ae96\",\"hyper-tuning-002-46b62ac7\",\"hyper-tuning-004-a2a688fe\"],\"TrainingJobStatus\":[\"Completed\",\"Completed\",\"Completed\",\"Completed\",\"Completed\",\"Completed\",\"Completed\",\"Completed\",\"Completed\"],\"TrainingStartTime\":{\"__ndarray__\":\"AIDAFg7AdkIAACtjDsB2QgAAXEYOwHZCAIDt0A3AdkIAAFtbDsB2QgAASHMOwHZCAADBzQ3AdkIAAMfMDcB2QgCAxwAOwHZC\",\"dtype\":\"float64\",\"shape\":[9]},\"buckets\":{\"__ndarray__\":\"AAAAADaNNUEAAADAlntiQQAAAMCWe2JBAAAAAM6hRkEAAABACcVdQQAAAADWI0lBAAAAAPb6T0EAAABAGo1TQQAAAADEyDVB\",\"dtype\":\"float64\",\"shape\":[9]},\"epochs\":{\"__ndarray__\":\"AAAAAAAALEAAAAAAAAAqQAAAAAAAACpAAAAAAAAAKkAAAAAAAAAkQAAAAAAAACBAAAAAAAAAJEAAAAAAAAAmQAAAAAAAABhA\",\"dtype\":\"float64\",\"shape\":[9]},\"index\":[7,4,6,9,5,3,11,10,8],\"learning_rate\":{\"__ndarray__\":\"lYVCEXR0gT+A1/ov+WGBP4DX+i/5YYE/5wdm0mFdgD9EzSOMiByDP62cyip5/ns/j3Mu0q0hgD/tnKdPKFB6PxLDNCbP6XQ/\",\"dtype\":\"float64\",\"shape\":[9]},\"min_count\":{\"__ndarray__\":\"AAAAAAAAMUAAAAAAAABCQAAAAAAAAEJAAAAAAAAAQ0AAAAAAAMBRQAAAAAAAgFFAAAAAAACASkAAAAAAAAAIQAAAAAAAAAhA\",\"dtype\":\"float64\",\"shape\":[9]},\"vector_dim\":{\"__ndarray__\":\"AAAAAACAXEAAAAAAAMBQQAAAAAAAQFJAAAAAAABAVUAAAAAAAABCQAAAAAAAwG1AAAAAAACATUAAAAAAAIBlQAAAAAAAwHFA\",\"dtype\":\"float64\",\"shape\":[9]},\"word_ngrams\":{\"__ndarray__\":\"AAAAAAAA8D8AAAAAAADwPwAAAAAAAPA/AAAAAAAA8D8AAAAAAADwPwAAAAAAAPA/AAAAAAAAAEAAAAAAAAAIQAAAAAAAAAhA\",\"dtype\":\"float64\",\"shape\":[9]}},\"selected\":{\"id\":\"1732\",\"type\":\"Selection\"},\"selection_policy\":{\"id\":\"1731\",\"type\":\"UnionRenderers\"}},\"id\":\"1560\",\"type\":\"ColumnDataSource\"},{\"attributes\":{},\"id\":\"1632\",\"type\":\"PanTool\"},{\"attributes\":{\"callback\":null,\"tooltips\":[[\"FinalObjectiveValue\",\"@FinalObjectiveValue\"],[\"TrainingJobName\",\"@TrainingJobName\"],[\"buckets\",\"@{buckets}\"],[\"epochs\",\"@{epochs}\"],[\"min_count\",\"@{min_count}\"],[\"vector_dim\",\"@{vector_dim}\"],[\"word_ngrams\",\"@{word_ngrams}\"],[\"learning_rate\",\"@{learning_rate}\"]]},\"id\":\"1522\",\"type\":\"HoverTool\"},{\"attributes\":{},\"id\":\"1398\",\"type\":\"LinearScale\"},{\"attributes\":{},\"id\":\"1457\",\"type\":\"CrosshairTool\"},{\"attributes\":{},\"id\":\"1633\",\"type\":\"CrosshairTool\"},{\"attributes\":{},\"id\":\"1400\",\"type\":\"LinearScale\"},{\"attributes\":{},\"id\":\"1458\",\"type\":\"WheelZoomTool\"},{\"attributes\":{},\"id\":\"1634\",\"type\":\"WheelZoomTool\"},{\"attributes\":{\"data_source\":{\"id\":\"1516\",\"type\":\"ColumnDataSource\"},\"glyph\":{\"id\":\"1518\",\"type\":\"Circle\"},\"hover_glyph\":null,\"muted_glyph\":null,\"nonselection_glyph\":{\"id\":\"1519\",\"type\":\"Circle\"},\"selection_glyph\":null,\"view\":{\"id\":\"1521\",\"type\":\"CDSView\"}},\"id\":\"1520\",\"type\":\"GlyphRenderer\"},{\"attributes\":{},\"id\":\"1459\",\"type\":\"ZoomInTool\"},{\"attributes\":{},\"id\":\"1635\",\"type\":\"ZoomInTool\"},{\"attributes\":{\"fill_alpha\":{\"value\":0.1},\"fill_color\":{\"value\":\"#1f77b4\"},\"line_alpha\":{\"value\":0.1},\"line_color\":{\"value\":\"#1f77b4\"},\"x\":{\"field\":\"min_count\"},\"y\":{\"field\":\"FinalObjectiveValue\"}},\"id\":\"1519\",\"type\":\"Circle\"},{\"attributes\":{},\"id\":\"1460\",\"type\":\"ZoomOutTool\"},{\"attributes\":{},\"id\":\"1636\",\"type\":\"ZoomOutTool\"},{\"attributes\":{},\"id\":\"1403\",\"type\":\"BasicTicker\"},{\"attributes\":{\"fill_color\":{\"value\":\"#1f77b4\"},\"line_color\":{\"value\":\"#1f77b4\"},\"x\":{\"field\":\"min_count\"},\"y\":{\"field\":\"FinalObjectiveValue\"}},\"id\":\"1518\",\"type\":\"Circle\"},{\"attributes\":{},\"id\":\"1461\",\"type\":\"UndoTool\"},{\"attributes\":{},\"id\":\"1637\",\"type\":\"UndoTool\"},{\"attributes\":{\"axis_label\":\"buckets\",\"formatter\":{\"id\":\"1702\",\"type\":\"BasicTickFormatter\"},\"plot\":{\"id\":\"1392\",\"subtype\":\"Figure\",\"type\":\"Plot\"},\"ticker\":{\"id\":\"1403\",\"type\":\"BasicTicker\"}},\"id\":\"1402\",\"type\":\"LinearAxis\"},{\"attributes\":{\"callback\":null},\"id\":\"1526\",\"type\":\"DataRange1d\"},{\"attributes\":{},\"id\":\"1462\",\"type\":\"ResetTool\"},{\"attributes\":{},\"id\":\"1638\",\"type\":\"ResetTool\"},{\"attributes\":{\"callback\":null},\"id\":\"1528\",\"type\":\"DataRange1d\"},{\"attributes\":{\"callback\":null,\"data\":{\"FinalObjectiveValue\":{\"__ndarray__\":\"AAAAACuH7j8AAACgy3/uPwAAAGBWfe4/AAAAYCJs7j8AAAAgwFvuPwAAACCDwOw/AAAAIMKG6z8AAACAHTjjPwAAAGAKnbc/\",\"dtype\":\"float64\",\"shape\":[9]},\"TrainingElapsedTimeSeconds\":{\"__ndarray__\":\"AAAAAACATUAAAAAAAABIQAAAAAAAAEhAAAAAAAAATEAAAAAAAIBGQAAAAAAAgEpAAAAAAADAZEAAAAAAABB/QAAAAAAA4G5A\",\"dtype\":\"float64\",\"shape\":[9]},\"TrainingEndTime\":{\"__ndarray__\":\"AAAoJQ7AdkIAAONuDsB2QgAAFFIOwHZCAICZ3g3AdkIAgFdmDsB2QgCAOIAOwHZCAABI9g3AdkIAgB1GDsB2QgAAFT0OwHZC\",\"dtype\":\"float64\",\"shape\":[9]},\"TrainingJobName\":[\"hyper-tuning-005-023243d8\",\"hyper-tuning-008-b52edcfb\",\"hyper-tuning-006-9f10a443\",\"hyper-tuning-003-05e09124\",\"hyper-tuning-007-05a5d708\",\"hyper-tuning-009-1306d7f2\",\"hyper-tuning-001-8171ae96\",\"hyper-tuning-002-46b62ac7\",\"hyper-tuning-004-a2a688fe\"],\"TrainingJobStatus\":[\"Completed\",\"Completed\",\"Completed\",\"Completed\",\"Completed\",\"Completed\",\"Completed\",\"Completed\",\"Completed\"],\"TrainingStartTime\":{\"__ndarray__\":\"AIDAFg7AdkIAACtjDsB2QgAAXEYOwHZCAIDt0A3AdkIAAFtbDsB2QgAASHMOwHZCAADBzQ3AdkIAAMfMDcB2QgCAxwAOwHZC\",\"dtype\":\"float64\",\"shape\":[9]},\"buckets\":{\"__ndarray__\":\"AAAAADaNNUEAAADAlntiQQAAAMCWe2JBAAAAAM6hRkEAAABACcVdQQAAAADWI0lBAAAAAPb6T0EAAABAGo1TQQAAAADEyDVB\",\"dtype\":\"float64\",\"shape\":[9]},\"epochs\":{\"__ndarray__\":\"AAAAAAAALEAAAAAAAAAqQAAAAAAAACpAAAAAAAAAKkAAAAAAAAAkQAAAAAAAACBAAAAAAAAAJEAAAAAAAAAmQAAAAAAAABhA\",\"dtype\":\"float64\",\"shape\":[9]},\"index\":[7,4,6,9,5,3,11,10,8],\"learning_rate\":{\"__ndarray__\":\"lYVCEXR0gT+A1/ov+WGBP4DX+i/5YYE/5wdm0mFdgD9EzSOMiByDP62cyip5/ns/j3Mu0q0hgD/tnKdPKFB6PxLDNCbP6XQ/\",\"dtype\":\"float64\",\"shape\":[9]},\"min_count\":{\"__ndarray__\":\"AAAAAAAAMUAAAAAAAABCQAAAAAAAAEJAAAAAAAAAQ0AAAAAAAMBRQAAAAAAAgFFAAAAAAACASkAAAAAAAAAIQAAAAAAAAAhA\",\"dtype\":\"float64\",\"shape\":[9]},\"vector_dim\":{\"__ndarray__\":\"AAAAAACAXEAAAAAAAMBQQAAAAAAAQFJAAAAAAABAVUAAAAAAAABCQAAAAAAAwG1AAAAAAACATUAAAAAAAIBlQAAAAAAAwHFA\",\"dtype\":\"float64\",\"shape\":[9]},\"word_ngrams\":{\"__ndarray__\":\"AAAAAAAA8D8AAAAAAADwPwAAAAAAAPA/AAAAAAAA8D8AAAAAAADwPwAAAAAAAPA/AAAAAAAAAEAAAAAAAAAIQAAAAAAAAAhA\",\"dtype\":\"float64\",\"shape\":[9]}},\"selected\":{\"id\":\"1730\",\"type\":\"Selection\"},\"selection_policy\":{\"id\":\"1729\",\"type\":\"UnionRenderers\"}},\"id\":\"1516\",\"type\":\"ColumnDataSource\"},{\"attributes\":{\"below\":[{\"id\":\"1490\",\"type\":\"LinearAxis\"}],\"left\":[{\"id\":\"1495\",\"type\":\"LinearAxis\"}],\"plot_height\":500,\"plot_width\":500,\"renderers\":[{\"id\":\"1490\",\"type\":\"LinearAxis\"},{\"id\":\"1494\",\"type\":\"Grid\"},{\"id\":\"1495\",\"type\":\"LinearAxis\"},{\"id\":\"1499\",\"type\":\"Grid\"},{\"id\":\"1520\",\"type\":\"GlyphRenderer\"}],\"title\":{\"id\":\"1479\",\"type\":\"Title\"},\"toolbar\":{\"id\":\"1507\",\"type\":\"Toolbar\"},\"x_range\":{\"id\":\"1482\",\"type\":\"DataRange1d\"},\"x_scale\":{\"id\":\"1486\",\"type\":\"LinearScale\"},\"y_range\":{\"id\":\"1484\",\"type\":\"DataRange1d\"},\"y_scale\":{\"id\":\"1488\",\"type\":\"LinearScale\"}},\"id\":\"1480\",\"subtype\":\"Figure\",\"type\":\"Plot\"},{\"attributes\":{\"axis_label\":\"validation:accuracy\",\"formatter\":{\"id\":\"1704\",\"type\":\"BasicTickFormatter\"},\"plot\":{\"id\":\"1392\",\"subtype\":\"Figure\",\"type\":\"Plot\"},\"ticker\":{\"id\":\"1408\",\"type\":\"BasicTicker\"}},\"id\":\"1407\",\"type\":\"LinearAxis\"},{\"attributes\":{},\"id\":\"1530\",\"type\":\"LinearScale\"},{\"attributes\":{\"callback\":null,\"tooltips\":[[\"FinalObjectiveValue\",\"@FinalObjectiveValue\"],[\"TrainingJobName\",\"@TrainingJobName\"],[\"buckets\",\"@{buckets}\"],[\"epochs\",\"@{epochs}\"],[\"min_count\",\"@{min_count}\"],[\"vector_dim\",\"@{vector_dim}\"],[\"word_ngrams\",\"@{word_ngrams}\"],[\"learning_rate\",\"@{learning_rate}\"]]},\"id\":\"1478\",\"type\":\"HoverTool\"},{\"attributes\":{},\"id\":\"1716\",\"type\":\"BasicTickFormatter\"},{\"attributes\":{\"plot\":{\"id\":\"1392\",\"subtype\":\"Figure\",\"type\":\"Plot\"},\"ticker\":{\"id\":\"1403\",\"type\":\"BasicTicker\"}},\"id\":\"1406\",\"type\":\"Grid\"},{\"attributes\":{},\"id\":\"1532\",\"type\":\"LinearScale\"},{\"attributes\":{},\"id\":\"1414\",\"type\":\"WheelZoomTool\"},{\"attributes\":{\"axis_label\":\"vector_dim\",\"formatter\":{\"id\":\"1714\",\"type\":\"BasicTickFormatter\"},\"plot\":{\"id\":\"1524\",\"subtype\":\"Figure\",\"type\":\"Plot\"},\"ticker\":{\"id\":\"1535\",\"type\":\"BasicTicker\"}},\"id\":\"1534\",\"type\":\"LinearAxis\"},{\"attributes\":{\"fill_alpha\":{\"value\":0.1},\"fill_color\":{\"value\":\"#1f77b4\"},\"line_alpha\":{\"value\":0.1},\"line_color\":{\"value\":\"#1f77b4\"},\"x\":{\"field\":\"buckets\"},\"y\":{\"field\":\"FinalObjectiveValue\"}},\"id\":\"1431\",\"type\":\"Circle\"},{\"attributes\":{},\"id\":\"1415\",\"type\":\"ZoomInTool\"},{\"attributes\":{\"source\":{\"id\":\"1472\",\"type\":\"ColumnDataSource\"}},\"id\":\"1477\",\"type\":\"CDSView\"},{\"attributes\":{\"dimension\":1,\"plot\":{\"id\":\"1392\",\"subtype\":\"Figure\",\"type\":\"Plot\"},\"ticker\":{\"id\":\"1408\",\"type\":\"BasicTicker\"}},\"id\":\"1411\",\"type\":\"Grid\"},{\"attributes\":{\"data_source\":{\"id\":\"1472\",\"type\":\"ColumnDataSource\"},\"glyph\":{\"id\":\"1474\",\"type\":\"Circle\"},\"hover_glyph\":null,\"muted_glyph\":null,\"nonselection_glyph\":{\"id\":\"1475\",\"type\":\"Circle\"},\"selection_glyph\":null,\"view\":{\"id\":\"1477\",\"type\":\"CDSView\"}},\"id\":\"1476\",\"type\":\"GlyphRenderer\"},{\"attributes\":{},\"id\":\"1535\",\"type\":\"BasicTicker\"},{\"attributes\":{},\"id\":\"1408\",\"type\":\"BasicTicker\"}],\"root_ids\":[\"1654\"]},\"title\":\"Bokeh Application\",\"version\":\"1.0.4\"}};\n",
       "  var render_items = [{\"docid\":\"d8b258c2-2536-4c7e-b3ec-424659cf00ae\",\"roots\":{\"1654\":\"03a4e7a8-3a56-4eef-8414-0ae4321e5eb8\"}}];\n",
       "  root.Bokeh.embed.embed_items_notebook(docs_json, render_items);\n",
       "\n",
       "  }\n",
       "  if (root.Bokeh !== undefined) {\n",
       "    embed_document(root);\n",
       "  } else {\n",
       "    var attempts = 0;\n",
       "    var timer = setInterval(function(root) {\n",
       "      if (root.Bokeh !== undefined) {\n",
       "        embed_document(root);\n",
       "        clearInterval(timer);\n",
       "      }\n",
       "      attempts++;\n",
       "      if (attempts > 100) {\n",
       "        console.log(\"Bokeh: ERROR: Unable to run BokehJS code because BokehJS library is missing\");\n",
       "        clearInterval(timer);\n",
       "      }\n",
       "    }, 10, root)\n",
       "  }\n",
       "})(window);"
      ],
      "application/vnd.bokehjs_exec.v0+json": ""
     },
     "metadata": {
      "application/vnd.bokehjs_exec.v0+json": {
       "id": "1654"
      }
     },
     "output_type": "display_data"
    }
   ],
   "source": [
    "\n",
    "\n",
    "ranges = tuner.tuning_ranges\n",
    "figures = []\n",
    "for hp_name, hp_range in ranges.items():\n",
    "    categorical_args = {}\n",
    "    if hp_range.get('Values'):\n",
    "        # This is marked as categorical.  Check if all options are actually numbers.\n",
    "        def is_num(x):\n",
    "            try:\n",
    "                float(x)\n",
    "                return 1\n",
    "            except:\n",
    "                return 0           \n",
    "        vals = hp_range['Values']\n",
    "        if sum([is_num(x) for x in vals]) == len(vals):\n",
    "            # Bokeh has issues plotting a \"categorical\" range that's actually numeric, so plot as numeric\n",
    "            print(\"Hyperparameter %s is tuned as categorical, but all values are numeric\" % hp_name)\n",
    "        else:\n",
    "            # Set up extra options for plotting categoricals.  A bit tricky when they're actually numbers.\n",
    "            categorical_args['x_range'] = vals\n",
    "\n",
    "    # Now plot it\n",
    "    p = figure(plot_width=500, plot_height=500, \n",
    "               title=\"Objective vs %s\" % hp_name,\n",
    "               tools=hover.tools(),\n",
    "               x_axis_label=hp_name, y_axis_label=objective_name,\n",
    "               **categorical_args)\n",
    "    p.circle(source=df, x=hp_name, y='FinalObjectiveValue')\n",
    "    figures.append(p)\n",
    "show(bokeh.layouts.Column(*figures))\n",
    "\n"
   ]
  },
  {
   "cell_type": "markdown",
   "metadata": {},
   "source": [
    "# Deploy the best model\n",
    "\n",
    "Now that we have got the best model, we can deploy it to an endpoint. Please refer to other SageMaker sample notebooks or SageMaker documentation to see how to deploy a model.\n"
   ]
  }
 ],
 "metadata": {
  "kernelspec": {
   "display_name": "conda_python3",
   "language": "python",
   "name": "conda_python3"
  },
  "language_info": {
   "codemirror_mode": {
    "name": "ipython",
    "version": 3
   },
   "file_extension": ".py",
   "mimetype": "text/x-python",
   "name": "python",
   "nbconvert_exporter": "python",
   "pygments_lexer": "ipython3",
   "version": "3.6.5"
  },
  "notice": "Copyright 2018 Amazon.com, Inc. or its affiliates. All Rights Reserved.  Licensed under the Apache License, Version 2.0 (the \"License\"). You may not use this file except in compliance with the License. A copy of the License is located at http://aws.amazon.com/apache2.0/ or in the \"license\" file accompanying this file. This file is distributed on an \"AS IS\" BASIS, WITHOUT WARRANTIES OR CONDITIONS OF ANY KIND, either express or implied. See the License for the specific language governing permissions and limitations under the License."
 },
 "nbformat": 4,
 "nbformat_minor": 2
}
